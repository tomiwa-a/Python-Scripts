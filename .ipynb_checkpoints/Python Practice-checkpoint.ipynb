{
 "cells": [
  {
   "cell_type": "code",
   "execution_count": 27,
   "id": "f9a5faa6",
   "metadata": {},
   "outputs": [
    {
     "name": "stdout",
     "output_type": "stream",
     "text": [
      "6543210\n"
     ]
    }
   ],
   "source": [
    "name = \"0123456\"\n",
    "print(name[::-1])\n",
    "\n",
    "#[start : stop : stepover]"
   ]
  },
  {
   "cell_type": "code",
   "execution_count": 28,
   "id": "2aefa516",
   "metadata": {},
   "outputs": [
    {
     "ename": "TypeError",
     "evalue": "'str' object does not support item assignment",
     "output_type": "error",
     "traceback": [
      "\u001b[1;31m---------------------------------------------------------------------------\u001b[0m",
      "\u001b[1;31mTypeError\u001b[0m                                 Traceback (most recent call last)",
      "\u001b[1;32m<ipython-input-28-a0e487452d92>\u001b[0m in \u001b[0;36m<module>\u001b[1;34m\u001b[0m\n\u001b[0;32m      1\u001b[0m \u001b[1;31m#strings in python are immutable(individual elements of a string can't be changed)\u001b[0m\u001b[1;33m\u001b[0m\u001b[1;33m\u001b[0m\u001b[1;33m\u001b[0m\u001b[0m\n\u001b[0;32m      2\u001b[0m \u001b[0mname\u001b[0m \u001b[1;33m=\u001b[0m \u001b[1;34m\"Tomiwa\"\u001b[0m\u001b[1;33m\u001b[0m\u001b[1;33m\u001b[0m\u001b[0m\n\u001b[1;32m----> 3\u001b[1;33m \u001b[0mname\u001b[0m\u001b[1;33m[\u001b[0m\u001b[1;36m5\u001b[0m\u001b[1;33m]\u001b[0m \u001b[1;33m=\u001b[0m \u001b[1;34m\"C\"\u001b[0m\u001b[1;33m;\u001b[0m\u001b[1;33m\u001b[0m\u001b[1;33m\u001b[0m\u001b[0m\n\u001b[0m\u001b[0;32m      4\u001b[0m \u001b[0mprint\u001b[0m\u001b[1;33m(\u001b[0m\u001b[0mname\u001b[0m\u001b[1;33m)\u001b[0m\u001b[1;33m\u001b[0m\u001b[1;33m\u001b[0m\u001b[0m\n",
      "\u001b[1;31mTypeError\u001b[0m: 'str' object does not support item assignment"
     ]
    }
   ],
   "source": [
    "#strings in python are immutable(individual elements of a string can't be changed)\n",
    "name = \"Tomiwa\"\n",
    "name[5] = \"C\";\n",
    "print(name)"
   ]
  },
  {
   "cell_type": "code",
   "execution_count": 29,
   "id": "9b837b3f",
   "metadata": {},
   "outputs": [
    {
     "name": "stdout",
     "output_type": "stream",
     "text": [
      "comiwa\n"
     ]
    }
   ],
   "source": [
    "name = \"c\"+name[1:]\n",
    "print(name)"
   ]
  },
  {
   "cell_type": "code",
   "execution_count": 30,
   "id": "7b3cb2e1",
   "metadata": {},
   "outputs": [
    {
     "name": "stdout",
     "output_type": "stream",
     "text": [
      "6\n"
     ]
    }
   ],
   "source": [
    "print(len(name))"
   ]
  },
  {
   "cell_type": "code",
   "execution_count": 32,
   "id": "6691c086",
   "metadata": {},
   "outputs": [
    {
     "data": {
      "text/plain": [
       "'COMIWA'"
      ]
     },
     "execution_count": 32,
     "metadata": {},
     "output_type": "execute_result"
    }
   ],
   "source": [
    "name.upper()\n",
    "#difference beween a function and a method is, a function doesn't require a dot i.e(name.upper), compared to print(\"Hello World\")"
   ]
  },
  {
   "cell_type": "code",
   "execution_count": 25,
   "id": "8e39adde",
   "metadata": {},
   "outputs": [
    {
     "name": "stdout",
     "output_type": "stream",
     "text": [
      "hello\n",
      "[7, 12]\n"
     ]
    }
   ],
   "source": [
    "word = \"Hi and hello world\"\n",
    "find = \"hello\"\n",
    "start_index = word.find(find)\n",
    "if start_index != -1:\n",
    "    end_index = start_index + len(find);\n",
    "    new_word = word[start_index:end_index]\n",
    "    \n",
    "    print(word[start_index:end_index])\n",
    "    print([start_index, end_index])\n",
    "else:\n",
    "    print(\"No result found\")\n",
    "\n",
    "#ask rehoboth to do the same tomorrow.\n",
    "#what if I say find tomiwa, but in the stirng what is available is Tomiwa's"
   ]
  },
  {
   "cell_type": "code",
   "execution_count": 83,
   "id": "7d7b0150",
   "metadata": {},
   "outputs": [],
   "source": [
    "#booleans are capitalized"
   ]
  },
  {
   "cell_type": "code",
   "execution_count": 45,
   "id": "adb09b9f",
   "metadata": {},
   "outputs": [
    {
     "name": "stdout",
     "output_type": "stream",
     "text": [
      "True\n"
     ]
    }
   ],
   "source": [
    "print(bool(8))"
   ]
  },
  {
   "cell_type": "code",
   "execution_count": 56,
   "id": "d0a36903",
   "metadata": {},
   "outputs": [
    {
     "name": "stdout",
     "output_type": "stream",
     "text": [
      "Username?: Tomiwamole\n",
      "Password?: tomiwamole\n",
      "Your password ********** is 10 letters long\n"
     ]
    }
   ],
   "source": [
    "username = input(\"Username?: \")\n",
    "password = input(\"Password?: \")\n",
    "\n",
    "password_length = len(password)\n",
    "hashed_password = \"*\"*password_length\n",
    "\n",
    "print(f\"Your password {hashed_password} is {password_length} letters long\")\n",
    "\n",
    "# add f after print to format string\n",
    "\n",
    "#ask rehoboth to do this too..!\n"
   ]
  },
  {
   "cell_type": "code",
   "execution_count": 76,
   "id": "13e5d0b4",
   "metadata": {},
   "outputs": [
    {
     "name": "stdout",
     "output_type": "stream",
     "text": [
      "[10, 1]\n"
     ]
    }
   ],
   "source": [
    "#ask rehoboth difference between Lists & Arrays\n",
    "lists = [1, 2, 3, 4, 5, 6, 7, 8, 9, 10]\n",
    "print(lists[::-9])\n"
   ]
  },
  {
   "cell_type": "code",
   "execution_count": 78,
   "id": "6bb557d1",
   "metadata": {},
   "outputs": [
    {
     "name": "stdout",
     "output_type": "stream",
     "text": [
      "[True, 2, 3, 4, 5, 6, 7, 8, 9, 10]\n"
     ]
    }
   ],
   "source": [
    "lists[0] = True\n",
    "print(lists)\n",
    "\n",
    "#lists are mutable"
   ]
  },
  {
   "cell_type": "code",
   "execution_count": 81,
   "id": "695a5938",
   "metadata": {},
   "outputs": [
    {
     "name": "stdout",
     "output_type": "stream",
     "text": [
      "['gum', 'pen', 'laptop']\n"
     ]
    }
   ],
   "source": [
    "cart = ['notebook', 'pen', 'laptop']\n",
    "new_cart = cart\n",
    "# new_cart = cart[:]\n",
    "new_cart[0] = 'gum'\n",
    "print(new_cart)"
   ]
  },
  {
   "cell_type": "code",
   "execution_count": 88,
   "id": "e230b895",
   "metadata": {},
   "outputs": [
    {
     "name": "stdout",
     "output_type": "stream",
     "text": [
      "3\n"
     ]
    }
   ],
   "source": [
    "matrix = [\n",
    "    [1, 2, 3],\n",
    "    [4, 5, 6],\n",
    "    [7, 8, 9]\n",
    "]\n",
    "\n",
    "print(matrix[0][2])"
   ]
  },
  {
   "cell_type": "code",
   "execution_count": 78,
   "id": "e55e8bfb",
   "metadata": {},
   "outputs": [
    {
     "name": "stdout",
     "output_type": "stream",
     "text": [
      "[1, 2, 3, 4, 5, 10]\n"
     ]
    }
   ],
   "source": [
    "basket = [1,2,3,4,5]\n",
    "# basket.extend(10)\n",
    "basket.append(10)\n",
    "\n",
    "# basket.insert(5, 100)\n",
    "\n",
    "# basket.pop(0)\n",
    "\n",
    "print(basket)\n",
    "\n",
    "# difference between append & extend is append just adds the items blandly but extend adds the elements of the array to the list.(only takes variables of type iterable(lists))"
   ]
  },
  {
   "cell_type": "code",
   "execution_count": 34,
   "id": "50d8d4a4",
   "metadata": {},
   "outputs": [
    {
     "name": "stdout",
     "output_type": "stream",
     "text": [
      "[1, 2, 3, 4, 5]\n"
     ]
    }
   ],
   "source": [
    "basket.reverse()\n",
    "print(basket)"
   ]
  },
  {
   "cell_type": "code",
   "execution_count": 37,
   "id": "a01aa9a8",
   "metadata": {},
   "outputs": [
    {
     "ename": "TypeError",
     "evalue": "'str' object cannot be interpreted as an integer",
     "output_type": "error",
     "traceback": [
      "\u001b[1;31m---------------------------------------------------------------------------\u001b[0m",
      "\u001b[1;31mTypeError\u001b[0m                                 Traceback (most recent call last)",
      "\u001b[1;32m<ipython-input-37-01a97dc3b629>\u001b[0m in \u001b[0;36m<module>\u001b[1;34m\u001b[0m\n\u001b[1;32m----> 1\u001b[1;33m \u001b[0mprint\u001b[0m\u001b[1;33m(\u001b[0m\u001b[0mlist\u001b[0m\u001b[1;33m(\u001b[0m\u001b[0mrange\u001b[0m\u001b[1;33m(\u001b[0m\u001b[1;34m'z'\u001b[0m\u001b[1;33m)\u001b[0m\u001b[1;33m)\u001b[0m\u001b[1;33m)\u001b[0m\u001b[1;33m\u001b[0m\u001b[1;33m\u001b[0m\u001b[0m\n\u001b[0m",
      "\u001b[1;31mTypeError\u001b[0m: 'str' object cannot be interpreted as an integer"
     ]
    }
   ],
   "source": [
    "print(list(range('z')))"
   ]
  },
  {
   "cell_type": "code",
   "execution_count": 40,
   "id": "249d08c3",
   "metadata": {},
   "outputs": [
    {
     "name": "stdout",
     "output_type": "stream",
     "text": [
      "[4, 5, 6, 7, 8, 9]\n"
     ]
    }
   ],
   "source": [
    "# list unpacking\n",
    "a,b,c, *others = [1, 2, 3, 4, 5, 6, 7, 8, 9]\n",
    "print(others)"
   ]
  },
  {
   "cell_type": "code",
   "execution_count": 44,
   "id": "d93c10b7",
   "metadata": {},
   "outputs": [
    {
     "ename": "KeyError",
     "evalue": "0",
     "output_type": "error",
     "traceback": [
      "\u001b[1;31m---------------------------------------------------------------------------\u001b[0m",
      "\u001b[1;31mKeyError\u001b[0m                                  Traceback (most recent call last)",
      "\u001b[1;32m<ipython-input-44-a1ba6920ffe0>\u001b[0m in \u001b[0;36m<module>\u001b[1;34m\u001b[0m\n\u001b[0;32m      4\u001b[0m }\n\u001b[0;32m      5\u001b[0m \u001b[1;33m\u001b[0m\u001b[0m\n\u001b[1;32m----> 6\u001b[1;33m \u001b[0mprint\u001b[0m\u001b[1;33m(\u001b[0m\u001b[0mdictionary\u001b[0m\u001b[1;33m[\u001b[0m\u001b[1;36m0\u001b[0m\u001b[1;33m]\u001b[0m\u001b[1;33m)\u001b[0m\u001b[1;33m\u001b[0m\u001b[1;33m\u001b[0m\u001b[0m\n\u001b[0m",
      "\u001b[1;31mKeyError\u001b[0m: 0"
     ]
    }
   ],
   "source": [
    "dictionary = {\n",
    "    'a': 1,\n",
    "    'b': 2\n",
    "}\n",
    "\n",
    "print(dictionary[0])"
   ]
  },
  {
   "cell_type": "code",
   "execution_count": 65,
   "id": "f15709c5",
   "metadata": {},
   "outputs": [
    {
     "name": "stdout",
     "output_type": "stream",
     "text": [
      "True\n"
     ]
    }
   ],
   "source": [
    "user = {\n",
    "    'name': \"Tomiwa\",\n",
    "    'title': \"Software Engineer\",\n",
    "}\n",
    "\n",
    "print(\"name\" in user.keys())"
   ]
  },
  {
   "cell_type": "code",
   "execution_count": 60,
   "id": "a9bf83ae",
   "metadata": {},
   "outputs": [
    {
     "name": "stdout",
     "output_type": "stream",
     "text": [
      "(1, 2, 3, 4, 5)\n"
     ]
    }
   ],
   "source": [
    "# tuples are immutable lists\n",
    "my_tuple = (1, 2, 3, 4, 5)\n",
    "print(my_tuple)"
   ]
  },
  {
   "cell_type": "code",
   "execution_count": 66,
   "id": "461c8d68",
   "metadata": {
    "scrolled": true
   },
   "outputs": [
    {
     "data": {
      "text/plain": [
       "{6, 7, 8, 9}"
      ]
     },
     "execution_count": 66,
     "metadata": {},
     "output_type": "execute_result"
    }
   ],
   "source": [
    "my_set = {1,2,3,4,5}\n",
    "your_set = {4,5,6,7,8,9}\n",
    "\n",
    "your_set.difference((my_set))"
   ]
  },
  {
   "cell_type": "code",
   "execution_count": 67,
   "id": "4e7ef68e",
   "metadata": {},
   "outputs": [
    {
     "name": "stdout",
     "output_type": "stream",
     "text": [
      "hello\n"
     ]
    }
   ],
   "source": [
    "print(\"hello\")"
   ]
  },
  {
   "cell_type": "code",
   "execution_count": 3,
   "id": "0b2201f7",
   "metadata": {},
   "outputs": [
    {
     "name": "stdout",
     "output_type": "stream",
     "text": [
      "[1, 2, 3]\n"
     ]
    }
   ],
   "source": [
    "list1 = [1, 2, 3]\n",
    "list2 = ['a', 'b', 'c', 'd']\n",
    "\n",
    "list2 = list1\n",
    "\n",
    "print(list2)"
   ]
  },
  {
   "cell_type": "code",
   "execution_count": 5,
   "id": "046cc853",
   "metadata": {},
   "outputs": [
    {
     "name": "stdout",
     "output_type": "stream",
     "text": [
      "He is not my friend\n"
     ]
    }
   ],
   "source": [
    "# tenary operator \n",
    "\n",
    "isFriend = False\n",
    "\n",
    "message = \"He is my friend\" if isFriend else \"He is not my friend\"\n",
    "print(message)"
   ]
  },
  {
   "cell_type": "code",
   "execution_count": 72,
   "id": "4b06b8fb",
   "metadata": {},
   "outputs": [
    {
     "name": "stdout",
     "output_type": "stream",
     "text": [
      "The values are 7 and 20\n"
     ]
    }
   ],
   "source": [
    "numbers = [7, 2, 3, 10, 20]\n",
    "total = dict()\n",
    "\n",
    "for i in range(len(numbers)):\n",
    "    \n",
    "    x = numbers[i]\n",
    "    for j in range(len(numbers)):\n",
    "        if i-j == 1 or j-i == 1:\n",
    "            continue\n",
    "        else:\n",
    "            if total.get((i, j)) is None and total.get((i, j)) is None:\n",
    "                if i==j:\n",
    "                    total[(i, j)] = numbers[j]\n",
    "                else:\n",
    "                    total[(i, j)] = x + numbers[j]\n",
    "                j = j + 1\n",
    "            else:\n",
    "                continue\n",
    "    i = i + 1\n",
    "\n",
    "max_value = max(total, key=total.get)\n",
    "\n",
    "if max_value[0] == max_value[1]:\n",
    "    print(f\"The value is {numbers[max_value[0]]}\")\n",
    "else:\n",
    "    print(f\"The values are {numbers[max_value[0]]} and {numbers[max_value[1]]}\")"
   ]
  },
  {
   "cell_type": "code",
   "execution_count": 58,
   "id": "4927c550",
   "metadata": {},
   "outputs": [
    {
     "name": "stdout",
     "output_type": "stream",
     "text": [
      "{(1, 2): 'Hello'}\n",
      "dict_items([((1, 2), 'Hello')])\n",
      "1\n"
     ]
    }
   ],
   "source": [
    "total = dict()\n",
    "tuples = (1, 2)\n",
    "\n",
    "total[tuples] = \"Hello\"\n",
    "print(total)\n",
    "\n",
    "print(total.items())\n",
    "\n",
    "print(tuples[0])\n",
    "\n"
   ]
  },
  {
   "cell_type": "code",
   "execution_count": 71,
   "id": "6df33ac4",
   "metadata": {},
   "outputs": [
    {
     "name": "stdout",
     "output_type": "stream",
     "text": [
      "{'[1,2,3]': 'value'}\n"
     ]
    }
   ],
   "source": [
    "d = {'[1,2,3]': 'value'}\n",
    "print(d)"
   ]
  },
  {
   "cell_type": "code",
   "execution_count": 109,
   "id": "45e777c7",
   "metadata": {},
   "outputs": [],
   "source": [
    "def rob(numbers):\n",
    "    total = 0\n",
    "#     indexes = list()\n",
    "    for i in range(len(numbers)):\n",
    "        if i > 1:\n",
    "            break\n",
    "        else:\n",
    "            number = numbers[i]\n",
    "#             y = [i]\n",
    "            x = i+2\n",
    "\n",
    "            while x<len(numbers):\n",
    "                number = number + numbers[x]\n",
    "#                 y.append(x)\n",
    "                x = x + 2\n",
    "            if number > total:\n",
    "                total = number\n",
    "#                 indexes = y.copy()\n",
    "            i = i+1;\n",
    "        \n",
    "    #print(indexes)\n",
    "    #print(total)\n",
    "    return total"
   ]
  },
  {
   "cell_type": "code",
   "execution_count": 105,
   "id": "db65af53",
   "metadata": {},
   "outputs": [
    {
     "data": {
      "text/plain": [
       "22"
      ]
     },
     "execution_count": 105,
     "metadata": {},
     "output_type": "execute_result"
    }
   ],
   "source": [
    "rob([2, 7, 9, 15, 1])"
   ]
  },
  {
   "cell_type": "code",
   "execution_count": 119,
   "id": "b6a4c414",
   "metadata": {},
   "outputs": [
    {
     "name": "stdout",
     "output_type": "stream",
     "text": [
      "1.37 ms ± 13.1 µs per loop (mean ± std. dev. of 7 runs, 1000 loops each)\n"
     ]
    }
   ],
   "source": [
    "%timeit rob(range(2000))\n",
    "\n",
    "#check time a loop too"
   ]
  },
  {
   "cell_type": "code",
   "execution_count": 112,
   "id": "12c006b9",
   "metadata": {},
   "outputs": [],
   "source": [
    "#excluding negatives\n",
    "def rob1(nums):\n",
    "    output = None\n",
    "    index_list = [] #remove\n",
    "    for i in range(len(nums)):\n",
    "        if i > 1: break;\n",
    "        in_index_list = []\n",
    "        sum = nums[i]\n",
    "        last_index = i\n",
    "        in_index_list.append(i) #remove \n",
    "        for j in range((len(nums)-i-1)//2):\n",
    "            last_index = last_index + 2\n",
    "            in_index_list.append(last_index) #remove\n",
    "            sum = sum + nums[last_index]  \n",
    "        if output is None or output < sum:\n",
    "            output = sum\n",
    "            index_list = in_index_list.copy()\n",
    "    #print(index_list) #remove\n",
    "    return output"
   ]
  },
  {
   "cell_type": "code",
   "execution_count": 117,
   "id": "e00d5f57",
   "metadata": {},
   "outputs": [
    {
     "name": "stdout",
     "output_type": "stream",
     "text": [
      "1.14 ms ± 9.64 µs per loop (mean ± std. dev. of 7 runs, 1000 loops each)\n"
     ]
    }
   ],
   "source": [
    "%timeit rob1(range(2000))"
   ]
  },
  {
   "cell_type": "code",
   "execution_count": 74,
   "id": "7953f1e2",
   "metadata": {},
   "outputs": [],
   "source": [
    "def robs(numbers):\n",
    "#     numbers = [-50, -30, 9, 15, 20, 2, 10]\n",
    "    first_number = numbers[::2]\n",
    "    second_number = numbers[1::2]\n",
    "\n",
    "    total1 = 0\n",
    "    total2 = 0\n",
    "\n",
    "    without_negative = 0\n",
    "    without_negative2 = 0\n",
    "\n",
    "    for i in range(len(first_number)):\n",
    "        if first_number[i] < 0:\n",
    "            total1 = total1 + first_number[i]\n",
    "            continue\n",
    "        else:\n",
    "            total1 = total1 + first_number[i]\n",
    "            without_negative = without_negative + first_number[i]\n",
    "\n",
    "        i = i + 1\n",
    "\n",
    "    for i in range(len(second_number)):\n",
    "        if second_number[i] < 0:\n",
    "            total2 = total2 + second_number[i]\n",
    "            continue\n",
    "        else:\n",
    "            total2 = total2 + second_number[i]\n",
    "            without_negative2 = without_negative2 + second_number[i]\n",
    "        i = i + 1\n",
    "        \n",
    "    print(total1)\n",
    "    print(total2)\n",
    "    print(max(total1, total2))\n",
    "\n",
    "    return max(total1, total2, without_negative, without_negative2)\n"
   ]
  },
  {
   "cell_type": "code",
   "execution_count": 190,
   "id": "b006d253",
   "metadata": {},
   "outputs": [
    {
     "name": "stdout",
     "output_type": "stream",
     "text": [
      "-50\n",
      "-40\n",
      "-40\n"
     ]
    },
    {
     "data": {
      "text/plain": [
       "0"
      ]
     },
     "execution_count": 190,
     "metadata": {},
     "output_type": "execute_result"
    }
   ],
   "source": [
    "robs([-50, -40])"
   ]
  },
  {
   "cell_type": "code",
   "execution_count": 186,
   "id": "ae356790",
   "metadata": {},
   "outputs": [
    {
     "name": "stdout",
     "output_type": "stream",
     "text": [
      "-40\n"
     ]
    }
   ],
   "source": [
    "print(max(-50, -40))"
   ]
  },
  {
   "cell_type": "code",
   "execution_count": 63,
   "id": "a980cb43",
   "metadata": {},
   "outputs": [
    {
     "name": "stdout",
     "output_type": "stream",
     "text": [
      "True\n"
     ]
    }
   ],
   "source": [
    "string = \"({[]})\"\n",
    "openers = ['(', '[', '{']\n",
    "closers = [')', ']', '}']\n",
    "\n",
    "stack = list()\n",
    "checker = False\n",
    "\n",
    "for i in range(len(string)):\n",
    "    character = string[i]\n",
    "    if character in closers and i == 0:\n",
    "        print(\"Cannot Start with a closer\")\n",
    "        index = closers.index(character)\n",
    "        stack.append(closers[index])\n",
    "    else:\n",
    "        if character in openers:\n",
    "            index = openers.index(character)\n",
    "            stack.append(closers[index])\n",
    "        else: \n",
    "            stack_len = len(stack)\n",
    "            if stack_len == 0:\n",
    "                index = closers.index(character)\n",
    "                stack.append(closers[index])\n",
    "            else:\n",
    "                if character == stack[stack_len-1]:\n",
    "                    stack = stack[:stack_len-1]\n",
    "if len(stack) == 0:\n",
    "    print(\"True\")\n",
    "else:\n",
    "    print(\"False\")"
   ]
  },
  {
   "cell_type": "code",
   "execution_count": 73,
   "id": "a9a49f20",
   "metadata": {},
   "outputs": [
    {
     "name": "stdout",
     "output_type": "stream",
     "text": [
      "['}']\n",
      "['}', ')']\n",
      "['}']\n",
      "[]\n",
      "True\n"
     ]
    }
   ],
   "source": [
    "string = \"{()}\"\n",
    "dict = {'(': ')', '[': ']', {': '}'}\n",
    "stack = []\n",
    "for char in string:\n",
    "    if char in dict.keys():\n",
    "        stack.append(dict.get(char))\n",
    "    else:\n",
    "        if stack != [] and char == stack[-1]:\n",
    "            stack = stack[:-1]\n",
    "        else:\n",
    "            stack.append(char)\n",
    "    print(stack)\n",
    "\n",
    "message = \"True\" if stack == [] else \"False\"\n",
    "print(message)"
   ]
  },
  {
   "cell_type": "code",
   "execution_count": 27,
   "id": "bbf7cb16",
   "metadata": {},
   "outputs": [
    {
     "name": "stdout",
     "output_type": "stream",
     "text": [
      "({[]}\n"
     ]
    }
   ],
   "source": [
    "print(string[0:-1])"
   ]
  },
  {
   "cell_type": "code",
   "execution_count": 25,
   "id": "2b844b47",
   "metadata": {},
   "outputs": [
    {
     "name": "stdout",
     "output_type": "stream",
     "text": [
      "[1, 2, 3]\n"
     ]
    }
   ],
   "source": [
    "list = [1, 2]\n",
    "list.append(3)\n",
    "print(list)"
   ]
  },
  {
   "cell_type": "code",
   "execution_count": 40,
   "id": "02e66629",
   "metadata": {},
   "outputs": [
    {
     "name": "stdout",
     "output_type": "stream",
     "text": [
      "True\n"
     ]
    }
   ],
   "source": [
    "print('c' == 'c')"
   ]
  },
  {
   "cell_type": "code",
   "execution_count": 5,
   "id": "36899ce6",
   "metadata": {},
   "outputs": [
    {
     "name": "stdout",
     "output_type": "stream",
     "text": [
      "False\n"
     ]
    }
   ],
   "source": [
    "a = (1,2,3)\n",
    "b = (1,2,3)\n",
    "\n",
    "print(a is b)"
   ]
  },
  {
   "cell_type": "code",
   "execution_count": 6,
   "id": "77dc949c",
   "metadata": {},
   "outputs": [
    {
     "name": "stdout",
     "output_type": "stream",
     "text": [
      "1\n",
      "2\n",
      "3\n"
     ]
    }
   ],
   "source": [
    "for i in [1,2,3]:\n",
    "    print(i)"
   ]
  },
  {
   "cell_type": "code",
   "execution_count": 11,
   "id": "1661eca5",
   "metadata": {},
   "outputs": [],
   "source": [
    "#iterating through a dictionary prints the keys\n",
    "\n",
    "# dict.keys(), dict.values(), dict.items()"
   ]
  },
  {
   "cell_type": "code",
   "execution_count": 13,
   "id": "f4cbb923",
   "metadata": {},
   "outputs": [
    {
     "name": "stdout",
     "output_type": "stream",
     "text": [
      "name Tomiwa\n",
      "age 17\n"
     ]
    }
   ],
   "source": [
    "dict = {\n",
    "    \"name\": \"Tomiwa\",\n",
    "    \"age\": 17\n",
    "}\n",
    "for item in dict.items():\n",
    "    key, value = item\n",
    "    print(key, value)"
   ]
  },
  {
   "cell_type": "code",
   "execution_count": 19,
   "id": "a9b75985",
   "metadata": {},
   "outputs": [
    {
     "name": "stdout",
     "output_type": "stream",
     "text": [
      "55\n"
     ]
    }
   ],
   "source": [
    "my_list = [1,2,3,4,5,6,7,8,9,10]\n",
    "#sum of list\n",
    "sum = 0\n",
    "\n",
    "for i in my_list:\n",
    "    sum = sum + i\n",
    "print(sum)\n"
   ]
  },
  {
   "cell_type": "code",
   "execution_count": 26,
   "id": "e39843de",
   "metadata": {},
   "outputs": [
    {
     "name": "stdout",
     "output_type": "stream",
     "text": [
      "[2, 4, 6, 8, 10, 12, 14, 16, 18, 20, 22, 24, 26, 28, 30, 32, 34, 36, 38, 40, 42, 44, 46, 48, 50, 52, 54, 56, 58, 60, 62, 64, 66, 68, 70, 72, 74, 76, 78, 80, 82, 84, 86, 88, 90, 92, 94, 96, 98, 100]\n"
     ]
    }
   ],
   "source": [
    "a = list(range(2, 101, 2))\n",
    "print(a)"
   ]
  },
  {
   "cell_type": "code",
   "execution_count": 27,
   "id": "d069e63d",
   "metadata": {},
   "outputs": [
    {
     "name": "stdout",
     "output_type": "stream",
     "text": [
      "<class 'range'>\n"
     ]
    }
   ],
   "source": [
    "print(type(range(100)))"
   ]
  },
  {
   "cell_type": "code",
   "execution_count": 40,
   "id": "e8292b04",
   "metadata": {},
   "outputs": [
    {
     "name": "stdout",
     "output_type": "stream",
     "text": [
      "2\n",
      "6\n",
      "10\n",
      "14\n",
      "18\n",
      "22\n",
      "26\n",
      "30\n",
      "34\n",
      "38\n",
      "42\n",
      "46\n",
      "50\n",
      "54\n",
      "58\n",
      "62\n",
      "66\n",
      "70\n",
      "74\n",
      "78\n",
      "82\n",
      "86\n",
      "90\n",
      "94\n",
      "98\n"
     ]
    }
   ],
   "source": [
    "for _ in a[::2]:\n",
    "    print(_)"
   ]
  },
  {
   "cell_type": "code",
   "execution_count": 107,
   "id": "ebd6f88e",
   "metadata": {},
   "outputs": [
    {
     "name": "stdout",
     "output_type": "stream",
     "text": [
      "(0, 1)\n",
      "(1, 2)\n",
      "(2, 3)\n",
      "(3, 4)\n",
      "(4, 5)\n",
      "(5, 6)\n",
      "(6, 7)\n",
      "(7, 8)\n",
      "(8, 9)\n",
      "(9, 10)\n",
      "(10, 11)\n",
      "(11, 12)\n",
      "(12, 13)\n",
      "(13, 14)\n",
      "(14, 15)\n",
      "(15, 16)\n",
      "(16, 17)\n",
      "(17, 18)\n",
      "(18, 19)\n",
      "(19, 20)\n",
      "(20, 21)\n",
      "(21, 22)\n",
      "(22, 23)\n",
      "(23, 24)\n",
      "(24, 25)\n",
      "(25, 26)\n",
      "(26, 27)\n",
      "(27, 28)\n",
      "(28, 29)\n",
      "(29, 30)\n",
      "(30, 31)\n",
      "(31, 32)\n",
      "(32, 33)\n",
      "(33, 34)\n",
      "(34, 35)\n",
      "(35, 36)\n",
      "(36, 37)\n",
      "(37, 38)\n",
      "(38, 39)\n",
      "(39, 40)\n",
      "(40, 41)\n",
      "(41, 42)\n",
      "(42, 43)\n",
      "(43, 44)\n",
      "(44, 45)\n",
      "(45, 46)\n",
      "(46, 47)\n",
      "(47, 48)\n",
      "(48, 49)\n",
      "(49, 50)\n",
      "(50, 51)\n",
      "(51, 52)\n",
      "(52, 53)\n",
      "(53, 54)\n",
      "(54, 55)\n",
      "(55, 56)\n",
      "(56, 57)\n",
      "(57, 58)\n",
      "(58, 59)\n",
      "(59, 60)\n",
      "(60, 61)\n",
      "(61, 62)\n",
      "(62, 63)\n",
      "(63, 64)\n",
      "(64, 65)\n",
      "(65, 66)\n",
      "(66, 67)\n",
      "(67, 68)\n",
      "(68, 69)\n",
      "(69, 70)\n",
      "(70, 71)\n",
      "(71, 72)\n",
      "(72, 73)\n",
      "(73, 74)\n",
      "(74, 75)\n",
      "(75, 76)\n",
      "(76, 77)\n",
      "(77, 78)\n",
      "(78, 79)\n",
      "(79, 80)\n",
      "(80, 81)\n",
      "(81, 82)\n",
      "(82, 83)\n",
      "(83, 84)\n",
      "(84, 85)\n",
      "(85, 86)\n",
      "(86, 87)\n",
      "(87, 88)\n",
      "(88, 89)\n",
      "(89, 90)\n",
      "(90, 91)\n",
      "(91, 92)\n",
      "(92, 93)\n",
      "(93, 94)\n",
      "(94, 95)\n",
      "(95, 96)\n",
      "(96, 97)\n",
      "(97, 98)\n",
      "(98, 99)\n",
      "(99, 100)\n"
     ]
    }
   ],
   "source": [
    "for v in enumerate(a):\n",
    "    print(v)"
   ]
  },
  {
   "cell_type": "code",
   "execution_count": 46,
   "id": "082b302a",
   "metadata": {},
   "outputs": [
    {
     "name": "stdout",
     "output_type": "stream",
     "text": [
      "49\n"
     ]
    }
   ],
   "source": [
    "a = list(range(1,101))\n",
    "\n",
    "for i, char in enumerate(a):\n",
    "    if char == 50:\n",
    "        print(i)\n",
    "        break"
   ]
  },
  {
   "cell_type": "code",
   "execution_count": 54,
   "id": "7d19338b",
   "metadata": {},
   "outputs": [
    {
     "name": "stdout",
     "output_type": "stream",
     "text": [
      "1\n",
      "2\n",
      "3\n",
      "4\n",
      "5\n",
      "6\n",
      "7\n",
      "8\n",
      "9\n",
      "10\n",
      "11\n",
      "12\n",
      "13\n",
      "14\n",
      "15\n",
      "16\n",
      "17\n",
      "18\n",
      "19\n",
      "20\n",
      "21\n",
      "22\n",
      "23\n",
      "24\n",
      "25\n",
      "26\n",
      "27\n",
      "28\n",
      "29\n",
      "30\n",
      "31\n",
      "32\n",
      "33\n",
      "34\n",
      "35\n",
      "36\n",
      "37\n",
      "38\n",
      "39\n",
      "40\n",
      "41\n",
      "42\n",
      "43\n",
      "44\n",
      "45\n",
      "46\n",
      "47\n",
      "48\n",
      "49\n",
      "50\n",
      "done with all the work\n"
     ]
    }
   ],
   "source": [
    "i = 0\n",
    "while i<50:\n",
    "    print(i+1)\n",
    "    i+=1\n",
    "else:\n",
    "    print(\"done with all the work\")\n",
    "\n",
    "\n",
    "#breaking out of a loop would negate the else block"
   ]
  },
  {
   "cell_type": "code",
   "execution_count": 65,
   "id": "7ea4eece",
   "metadata": {},
   "outputs": [
    {
     "name": "stdout",
     "output_type": "stream",
     "text": [
      "                  \n",
      "\n",
      "        *         \n",
      "\n",
      "      * * *       \n",
      "\n",
      "    * * * * *     \n",
      "\n",
      "      * * *       \n",
      "\n",
      "        *         \n",
      "\n",
      "                  \n",
      "\n"
     ]
    }
   ],
   "source": [
    "picture = [\n",
    "    [0,0,0,0,0,0,0,0,0],\n",
    "    [0,0,0,0,1,0,0,0,0],\n",
    "    [0,0,0,1,1,1,0,0,0],\n",
    "    [0,0,1,1,1,1,1,0,0],\n",
    "    [0,0,0,1,1,1,0,0,0],\n",
    "    [0,0,0,0,1,0,0,0,0],\n",
    "    [0,0,0,0,0,0,0,0,0],\n",
    "]\n",
    "\n",
    "for row in picture:\n",
    "    for i in row:\n",
    "        value = \"*\" if i == 1 else \" \"\n",
    "        print(f\"{value}\", end=\" \")\n",
    "    print(\"\\n\")"
   ]
  },
  {
   "cell_type": "code",
   "execution_count": 103,
   "id": "7e7f6421",
   "metadata": {},
   "outputs": [
    {
     "name": "stdout",
     "output_type": "stream",
     "text": [
      "                              *                               \n",
      "\n",
      "                            * * *                             \n",
      "\n",
      "                          * * * * *                           \n",
      "\n",
      "                        * * * * * * *                         \n",
      "\n",
      "                      * * * * * * * * *                       \n",
      "\n",
      "                    * * * * * * * * * * *                     \n",
      "\n",
      "                  * * * * * * * * * * * * *                   \n",
      "\n",
      "                * * * * * * * * * * * * * * *                 \n",
      "\n",
      "              * * * * * * * * * * * * * * * * *               \n",
      "\n",
      "            * * * * * * * * * * * * * * * * * * *             \n",
      "\n",
      "          * * * * * * * * * * * * * * * * * * * * *           \n",
      "\n",
      "        * * * * * * * * * * * * * * * * * * * * * * *         \n",
      "\n",
      "      * * * * * * * * * * * * * * * * * * * * * * * * *       \n",
      "\n",
      "    * * * * * * * * * * * * * * * * * * * * * * * * * * *     \n",
      "\n",
      "  * * * * * * * * * * * * * * * * * * * * * * * * * * * * *   \n",
      "\n",
      "* * * * * * * * * * * * * * * * * * * * * * * * * * * * * * * \n",
      "\n",
      "  * * * * * * * * * * * * * * * * * * * * * * * * * * * * *   \n",
      "\n",
      "    * * * * * * * * * * * * * * * * * * * * * * * * * * *     \n",
      "\n",
      "      * * * * * * * * * * * * * * * * * * * * * * * * *       \n",
      "\n",
      "        * * * * * * * * * * * * * * * * * * * * * * *         \n",
      "\n",
      "          * * * * * * * * * * * * * * * * * * * * *           \n",
      "\n",
      "            * * * * * * * * * * * * * * * * * * *             \n",
      "\n",
      "              * * * * * * * * * * * * * * * * *               \n",
      "\n",
      "                * * * * * * * * * * * * * * *                 \n",
      "\n",
      "                  * * * * * * * * * * * * *                   \n",
      "\n",
      "                    * * * * * * * * * * *                     \n",
      "\n",
      "                      * * * * * * * * *                       \n",
      "\n",
      "                        * * * * * * *                         \n",
      "\n",
      "                          * * * * *                           \n",
      "\n",
      "                            * * *                             \n",
      "\n"
     ]
    }
   ],
   "source": [
    "total = 31\n",
    "arr = list(range(1, total, 2))\n",
    "arr.extend(list(range(30, 1, -2)))\n",
    "# arr = [1, 3, 5, 3, 1]\n",
    "\n",
    "for i in arr:\n",
    "    mins = (total - i)//2\n",
    "    maxs = total-mins\n",
    "    loop = list(range(mins, maxs))\n",
    "    \n",
    "    for x in range(total):\n",
    "        message = \"*\" if x in loop else \" \"\n",
    "        print(message, end = \" \")\n",
    "    print(\"\\n\")\n",
    "        "
   ]
  },
  {
   "cell_type": "code",
   "execution_count": 68,
   "id": "63ab69fc",
   "metadata": {},
   "outputs": [
    {
     "name": "stdout",
     "output_type": "stream",
     "text": [
      "[3, 4, 5]\n"
     ]
    }
   ],
   "source": [
    "print(list(range(3, 6)))"
   ]
  },
  {
   "cell_type": "code",
   "execution_count": 106,
   "id": "7cf738fd",
   "metadata": {},
   "outputs": [
    {
     "name": "stdout",
     "output_type": "stream",
     "text": [
      "['a', 'b', 'g']\n"
     ]
    }
   ],
   "source": [
    "some_list = ['a', 'b', 'c', 'd', 'e', 'f', 'g', 'a', 'a', 'g', 'b']\n",
    "duplicate = []\n",
    "\n",
    "for index, char in enumerate(some_list):\n",
    "    if char in some_list[index+1:]:\n",
    "        if char not in duplicate:\n",
    "            duplicate.append(char)\n",
    "\n",
    "print(duplicate)\n",
    "    \n",
    "#find duplicate characters in an arry\n"
   ]
  },
  {
   "cell_type": "code",
   "execution_count": 108,
   "id": "9cce3e27",
   "metadata": {},
   "outputs": [
    {
     "name": "stdout",
     "output_type": "stream",
     "text": [
      "['apple', 'banana', 'mango']\n"
     ]
    }
   ],
   "source": [
    "fruits = [\"apple\", \"banana\", \"cherry\", \"kiwi\", \"mango\"]\n",
    "\n",
    "newlist = [x for x in fruits if \"a\" in x]\n",
    "\n",
    "print(newlist)"
   ]
  },
  {
   "cell_type": "code",
   "execution_count": 119,
   "id": "09f206aa",
   "metadata": {
    "scrolled": false
   },
   "outputs": [
    {
     "name": "stdout",
     "output_type": "stream",
     "text": [
      " Hello babes 😉 My name is Tomiwa and I am sad ☹️\n"
     ]
    }
   ],
   "source": [
    "string = \"Hello baby ;) My name is Tomiwa and I am sad ):\"\n",
    "dict = {\n",
    "    ';)': '😉',\n",
    "    ':)': '🙂',\n",
    "    '):': '☹️'\n",
    "}\n",
    "\n",
    "def stringToList(string):\n",
    "    return list(string.split(' '))\n",
    "\n",
    "def listToString(reList):\n",
    "    string =  \"\"\n",
    "    for word in reList:\n",
    "        string = string + \" \"+ word\n",
    "    return string\n",
    "        \n",
    "\n",
    "string_arr = stringToList(string)\n",
    "for index, value in enumerate(string_arr):\n",
    "    if value in dict.keys():\n",
    "        replace = dict.get(value)\n",
    "        string_arr[index] = replace\n",
    "\n",
    "string = listToString(string_arr) \n",
    "print(string)x\n",
    "\n",
    "# convert emoticons in string to emojis \n",
    "            "
   ]
  },
  {
   "cell_type": "code",
   "execution_count": 120,
   "id": "794c6192",
   "metadata": {},
   "outputs": [],
   "source": [
    "string = \"Hello baby ;) My name is Tomiwa and I am sad ):\""
   ]
  },
  {
   "cell_type": "code",
   "execution_count": 121,
   "id": "caa00124",
   "metadata": {},
   "outputs": [],
   "source": [
    "def sayHello(name=\"Tomiwa\", age=17):\n",
    "    print(f\"Name is {name} and age is {age}\")"
   ]
  },
  {
   "cell_type": "code",
   "execution_count": 128,
   "id": "db9fa95f",
   "metadata": {},
   "outputs": [
    {
     "name": "stdout",
     "output_type": "stream",
     "text": [
      "Name is Tomiwa and age is 13\n"
     ]
    }
   ],
   "source": [
    "sayHello(age=13)"
   ]
  },
  {
   "cell_type": "code",
   "execution_count": 135,
   "id": "61c87e2c",
   "metadata": {},
   "outputs": [],
   "source": [
    "def divide(number):\n",
    "    while number > 1:\n",
    "        number = number //3\n",
    "        print(number)"
   ]
  },
  {
   "cell_type": "code",
   "execution_count": 136,
   "id": "e67259ff",
   "metadata": {},
   "outputs": [
    {
     "name": "stdout",
     "output_type": "stream",
     "text": [
      "5\n",
      "1\n"
     ]
    }
   ],
   "source": [
    "divide(16)"
   ]
  },
  {
   "cell_type": "code",
   "execution_count": 208,
   "id": "b7c20a77",
   "metadata": {},
   "outputs": [],
   "source": [
    "import math as m\n",
    "\n",
    "def findNumber(arr, number):\n",
    "    arr.sort()\n",
    "    mid_point = m.ceil(len(arr)/2)\n",
    "    print(len(arr))\n",
    "    if len(arr) == 1: print(arr)\n",
    "    if arr[mid_point] < number:\n",
    "        new_arr = arr[mid_point+1:]\n",
    "        findNumber(new_arr, number)\n",
    "    elif arr[mid_point] > number:\n",
    "        new_arr = arr[:mid_point]\n",
    "        findNumber(new_arr, number)\n",
    "    else:\n",
    "        return arr\n",
    "    "
   ]
  },
  {
   "cell_type": "code",
   "execution_count": 3,
   "id": "5a0387a2",
   "metadata": {},
   "outputs": [
    {
     "ename": "NameError",
     "evalue": "name 'findNumber' is not defined",
     "output_type": "error",
     "traceback": [
      "\u001b[1;31m---------------------------------------------------------------------------\u001b[0m",
      "\u001b[1;31mNameError\u001b[0m                                 Traceback (most recent call last)",
      "\u001b[1;32m<ipython-input-3-890cb5c8ecae>\u001b[0m in \u001b[0;36m<module>\u001b[1;34m\u001b[0m\n\u001b[0;32m      1\u001b[0m \u001b[0marr\u001b[0m \u001b[1;33m=\u001b[0m \u001b[1;33m[\u001b[0m\u001b[1;36m1\u001b[0m\u001b[1;33m,\u001b[0m\u001b[1;36m2\u001b[0m\u001b[1;33m,\u001b[0m\u001b[1;36m5\u001b[0m\u001b[1;33m,\u001b[0m \u001b[1;36m6\u001b[0m\u001b[1;33m,\u001b[0m \u001b[1;36m7\u001b[0m\u001b[1;33m,\u001b[0m \u001b[1;36m100\u001b[0m\u001b[1;33m,\u001b[0m \u001b[1;36m4\u001b[0m\u001b[1;33m,\u001b[0m \u001b[1;36m5\u001b[0m\u001b[1;33m,\u001b[0m \u001b[1;36m6\u001b[0m\u001b[1;33m,\u001b[0m \u001b[1;36m4\u001b[0m\u001b[1;33m,\u001b[0m\u001b[1;36m20\u001b[0m\u001b[1;33m]\u001b[0m\u001b[1;33m\u001b[0m\u001b[1;33m\u001b[0m\u001b[0m\n\u001b[1;32m----> 2\u001b[1;33m \u001b[0mprint\u001b[0m\u001b[1;33m(\u001b[0m\u001b[0mfindNumber\u001b[0m\u001b[1;33m(\u001b[0m\u001b[0marr\u001b[0m\u001b[1;33m,\u001b[0m \u001b[1;36m20\u001b[0m\u001b[1;33m)\u001b[0m\u001b[1;33m)\u001b[0m\u001b[1;33m\u001b[0m\u001b[1;33m\u001b[0m\u001b[0m\n\u001b[0m",
      "\u001b[1;31mNameError\u001b[0m: name 'findNumber' is not defined"
     ]
    }
   ],
   "source": [
    "arr = [1,2,5, 6, 7, 100, 4, 5, 6, 4,20]\n",
    "print(findNumber(arr, 20))"
   ]
  },
  {
   "cell_type": "code",
   "execution_count": 198,
   "id": "25fa8b62",
   "metadata": {},
   "outputs": [
    {
     "ename": "TypeError",
     "evalue": "string indices must be integers",
     "output_type": "error",
     "traceback": [
      "\u001b[1;31m---------------------------------------------------------------------------\u001b[0m",
      "\u001b[1;31mTypeError\u001b[0m                                 Traceback (most recent call last)",
      "\u001b[1;32m<ipython-input-198-266789606ecc>\u001b[0m in \u001b[0;36m<module>\u001b[1;34m\u001b[0m\n\u001b[0;32m     23\u001b[0m         \u001b[0mans\u001b[0m \u001b[1;33m=\u001b[0m \u001b[0mfirst\u001b[0m \u001b[1;33m+\u001b[0m \u001b[0mans\u001b[0m\u001b[1;33m\u001b[0m\u001b[1;33m\u001b[0m\u001b[0m\n\u001b[0;32m     24\u001b[0m     \u001b[1;32mreturn\u001b[0m \u001b[0mans\u001b[0m\u001b[1;33m\u001b[0m\u001b[1;33m\u001b[0m\u001b[0m\n\u001b[1;32m---> 25\u001b[1;33m \u001b[0mprint\u001b[0m\u001b[1;33m(\u001b[0m\u001b[0mba\u001b[0m\u001b[1;33m(\u001b[0m\u001b[1;34m'101'\u001b[0m\u001b[1;33m,\u001b[0m \u001b[1;34m'1101'\u001b[0m\u001b[1;33m)\u001b[0m\u001b[1;33m)\u001b[0m\u001b[1;33m\u001b[0m\u001b[1;33m\u001b[0m\u001b[0m\n\u001b[0m\u001b[0;32m     26\u001b[0m \u001b[1;33m\u001b[0m\u001b[0m\n\u001b[0;32m     27\u001b[0m \u001b[1;31m# 1101\u001b[0m\u001b[1;33m\u001b[0m\u001b[1;33m\u001b[0m\u001b[1;33m\u001b[0m\u001b[0m\n",
      "\u001b[1;32m<ipython-input-198-266789606ecc>\u001b[0m in \u001b[0;36mba\u001b[1;34m(a, b)\u001b[0m\n\u001b[0;32m     15\u001b[0m         \u001b[1;32mif\u001b[0m \u001b[0mfirst\u001b[0m\u001b[1;33m[\u001b[0m\u001b[1;36m0\u001b[0m\u001b[1;33m]\u001b[0m \u001b[1;33m==\u001b[0m \u001b[1;34m\"1\"\u001b[0m \u001b[1;32mand\u001b[0m \u001b[0msecond\u001b[0m\u001b[1;33m[\u001b[0m\u001b[1;36m0\u001b[0m\u001b[1;33m]\u001b[0m  \u001b[1;33m==\u001b[0m \u001b[1;34m\"1\"\u001b[0m\u001b[1;33m:\u001b[0m\u001b[1;33m\u001b[0m\u001b[1;33m\u001b[0m\u001b[0m\n\u001b[0;32m     16\u001b[0m             \u001b[0mans\u001b[0m \u001b[1;33m=\u001b[0m \u001b[1;34m\"0\"\u001b[0m\u001b[1;33m+\u001b[0m\u001b[0mans\u001b[0m\u001b[1;33m\u001b[0m\u001b[1;33m\u001b[0m\u001b[0m\n\u001b[1;32m---> 17\u001b[1;33m             \u001b[0mba\u001b[0m\u001b[1;33m(\u001b[0m\u001b[1;36m1\u001b[0m\u001b[1;33m,\u001b[0m \u001b[0mfirst\u001b[0m\u001b[1;33m[\u001b[0m\u001b[0ma\u001b[0m\u001b[1;33m]\u001b[0m\u001b[1;33m)\u001b[0m\u001b[1;33m;\u001b[0m\u001b[1;33m\u001b[0m\u001b[1;33m\u001b[0m\u001b[0m\n\u001b[0m\u001b[0;32m     18\u001b[0m         \u001b[1;32melif\u001b[0m \u001b[0mfirst\u001b[0m\u001b[1;33m[\u001b[0m\u001b[1;36m0\u001b[0m\u001b[1;33m]\u001b[0m  \u001b[1;33m==\u001b[0m \u001b[1;34m\"1\"\u001b[0m \u001b[1;32mand\u001b[0m \u001b[0msecond\u001b[0m\u001b[1;33m[\u001b[0m\u001b[1;36m0\u001b[0m\u001b[1;33m]\u001b[0m \u001b[1;33m==\u001b[0m \u001b[1;34m\"0\"\u001b[0m\u001b[1;33m:\u001b[0m \u001b[0mans\u001b[0m \u001b[1;33m=\u001b[0m \u001b[1;34m\"1\"\u001b[0m\u001b[1;33m+\u001b[0m\u001b[0mans\u001b[0m\u001b[1;33m\u001b[0m\u001b[1;33m\u001b[0m\u001b[0m\n\u001b[0;32m     19\u001b[0m         \u001b[1;32melif\u001b[0m \u001b[0mfirst\u001b[0m\u001b[1;33m[\u001b[0m\u001b[1;36m0\u001b[0m\u001b[1;33m]\u001b[0m  \u001b[1;33m==\u001b[0m \u001b[1;34m\"0\"\u001b[0m \u001b[1;32mand\u001b[0m \u001b[0msecond\u001b[0m\u001b[1;33m[\u001b[0m\u001b[1;36m0\u001b[0m\u001b[1;33m]\u001b[0m \u001b[1;33m==\u001b[0m \u001b[1;34m\"1\"\u001b[0m\u001b[1;33m:\u001b[0m \u001b[0mans\u001b[0m \u001b[1;33m=\u001b[0m \u001b[1;34m\"1\"\u001b[0m\u001b[1;33m+\u001b[0m\u001b[0mans\u001b[0m\u001b[1;33m\u001b[0m\u001b[1;33m\u001b[0m\u001b[0m\n",
      "\u001b[1;31mTypeError\u001b[0m: string indices must be integers"
     ]
    }
   ],
   "source": [
    "# \"10\" + \"1 == 11\n",
    "\n",
    "def ba(a,b):\n",
    "    carry = False\n",
    "    ans = \"\"\n",
    "    if len(b) > len(a):\n",
    "        swap = b\n",
    "        b = a\n",
    "        a = swap\n",
    "    i = 0\n",
    "    for char in b[(len(b)-1)-i::-1]:\n",
    "        first = a[(len(a)-1)-i::-1]\n",
    "        second = b[(len(b)-1)-i::-1]\n",
    "#         print(first[0], second[0])\n",
    "        if first[0] == \"1\" and second[0]  == \"1\":\n",
    "            ans = \"0\"+ans\n",
    "            ba(1, first[a]);\n",
    "        elif first[0]  == \"1\" and second[0] == \"0\": ans = \"1\"+ans\n",
    "        elif first[0]  == \"0\" and second[0] == \"1\": ans = \"1\"+ans\n",
    "        else: ans = \"0\"+ans\n",
    "        i = i + 1\n",
    "    else:\n",
    "        ans = first + ans\n",
    "    return ans\n",
    "print(ba('101', '1101'))\n",
    "\n",
    "# 1101\n",
    "#  101\n",
    "#=  10010\n",
    "\n",
    "#1111\n",
    "# 111\n",
    "#10010"
   ]
  },
  {
   "cell_type": "markdown",
   "id": "353df05d",
   "metadata": {},
   "source": [
    "a = \"110101\"\n",
    "b = \"10\"\n",
    "\n",
    "counter = 2\n",
    "count = (len(a)-1)-counter\n",
    "print(a[(len(a)-1)-counter::-1])\n",
    "\n"
   ]
  },
  {
   "cell_type": "code",
   "execution_count": 165,
   "id": "7baa6427",
   "metadata": {},
   "outputs": [
    {
     "ename": "IndentationError",
     "evalue": "unindent does not match any outer indentation level (<tokenize>, line 8)",
     "output_type": "error",
     "traceback": [
      "\u001b[1;36m  File \u001b[1;32m\"<tokenize>\"\u001b[1;36m, line \u001b[1;32m8\u001b[0m\n\u001b[1;33m    else:\u001b[0m\n\u001b[1;37m    ^\u001b[0m\n\u001b[1;31mIndentationError\u001b[0m\u001b[1;31m:\u001b[0m unindent does not match any outer indentation level\n"
     ]
    }
   ],
   "source": [
    "print(a[i], b[i])\n",
    "        if carry: ba(str(10), str(a[i]))\n",
    "        if a[i] == \"1\" and b[i] == \"1\": carry = True\n",
    "        elif a[i] == \"1\" and b[i] == \"0\": ans = \"1\"+ans\n",
    "        elif a[i] == \"0\" and b[i] == \"1\": ans = \"1\"+ans\n",
    "        i = i + 1\n",
    "        print(ans)\n",
    "    else:\n",
    "        print(\"good\")\n",
    "        ans = a[:i+1] + ans\n",
    "    return ans"
   ]
  },
  {
   "cell_type": "code",
   "execution_count": 197,
   "id": "331e94e4",
   "metadata": {},
   "outputs": [
    {
     "name": "stdout",
     "output_type": "stream",
     "text": [
      "0b100\n"
     ]
    }
   ],
   "source": [
    "print(bin(4))"
   ]
  },
  {
   "cell_type": "code",
   "execution_count": 322,
   "id": "2d4f9019",
   "metadata": {
    "scrolled": false
   },
   "outputs": [
    {
     "name": "stdout",
     "output_type": "stream",
     "text": [
      "1101\n",
      "1111\n",
      "1101\n"
     ]
    },
    {
     "data": {
      "text/plain": [
       "'11000'"
      ]
     },
     "execution_count": 322,
     "metadata": {},
     "output_type": "execute_result"
    }
   ],
   "source": [
    "def binarySum(a, b):\n",
    "    carry = False\n",
    "    ans = \"\"\n",
    "    if len(b) > len(a):\n",
    "        swap = b\n",
    "        b = a\n",
    "        a = swap\n",
    "    i = 0\n",
    "    while i < len(a):\n",
    "        new_a = a[::-1]\n",
    "        new_b = b[::-1]\n",
    "        if carry:\n",
    "                val = binarySum(str(1), str(new_a[i]))\n",
    "#                 print(val)\n",
    "                if val in ['1', '0']: carry = False\n",
    "                else: carry = True\n",
    "                new_a = string[0:i] + \"1\" + string[i+1:]\n",
    "                print(new_a)\n",
    "        if i < len(b):\n",
    "            if new_a[i] == \"1\" and new_b[i] == \"1\": \n",
    "#                 print(new_a[1])\n",
    "                ans = \"0\"+ans\n",
    "#                 val = binarySum(str(10), str(new_a[1]))\n",
    "#                 print(val)\n",
    "# #                 break\n",
    "#                 if()\n",
    "#                 val = binarySum(val, str(new_b[1]))\n",
    "#                 ans = val+ans\n",
    "                carry = True\n",
    "            if new_a[i] == \"1\" and new_b[i] == \"0\": ans = \"1\"+ans\n",
    "            if new_a[i] == \"0\" and new_b[i] == \"1\": ans = \"1\"+ans\n",
    "            if new_a[i] == \"0\" and new_b[i] == \"0\": ans = \"0\"+ans\n",
    "        else:\n",
    "            ans = new_a[i] + ans\n",
    "        i = i + 1\n",
    "    if carry: ans = \"1\"+ans\n",
    "        \n",
    "    return ans\n",
    "binarySum('1011', '111')"
   ]
  },
  {
   "cell_type": "code",
   "execution_count": 310,
   "id": "c57d5928",
   "metadata": {},
   "outputs": [
    {
     "name": "stdout",
     "output_type": "stream",
     "text": [
      "1101\n"
     ]
    }
   ],
   "source": [
    "string = \"1001\"\n",
    "\n",
    "new = \"1\"\n",
    "i = 1\n",
    "string = string[0:i] + new + string[i+1:]\n",
    "print(string)"
   ]
  },
  {
   "cell_type": "code",
   "execution_count": null,
   "id": "89b37446",
   "metadata": {},
   "outputs": [],
   "source": [
    "num = 25\n",
    "while True:\n",
    "    picked_num = int(input(\"Pick a number: \"))\n",
    "    if num > picked_num: print(f\"Number you picked is less than {num}\")"
   ]
  },
  {
   "cell_type": "code",
   "execution_count": 2,
   "id": "40a8390f",
   "metadata": {},
   "outputs": [
    {
     "name": "stdout",
     "output_type": "stream",
     "text": [
      "Hello World\n"
     ]
    }
   ],
   "source": [
    "print(\"Hello World\")"
   ]
  },
  {
   "cell_type": "code",
   "execution_count": 24,
   "id": "adafac14",
   "metadata": {},
   "outputs": [
    {
     "name": "stdout",
     "output_type": "stream",
     "text": [
      "False\n"
     ]
    }
   ],
   "source": [
    "# binary search only works on sorted lists\n",
    "binary = list(range(50))\n",
    "number = 60\n",
    "checker = False\n",
    "import math\n",
    "\n",
    "def binarySearch(binary, number):\n",
    "    stop = len(binary)\n",
    "    if stop == 0: return False\n",
    "    if stop == 1:\n",
    "        if binary[0] == number:return True\n",
    "        else: return False\n",
    "    else: \n",
    "        med_value = math.ceil(stop/2)\n",
    "        if binary[med_value] == number: return True\n",
    "        elif binary[med_value] < number: return binarySearch(binary[med_value+1:], number)\n",
    "        elif binary[med_value] > number: return binarySearch(binary[:med_value], number)\n",
    "\n",
    "print(binarySearch(binary, number))"
   ]
  },
  {
   "cell_type": "code",
   "execution_count": 108,
   "id": "bd044260",
   "metadata": {},
   "outputs": [
    {
     "name": "stdout",
     "output_type": "stream",
     "text": [
      "Hello World\n"
     ]
    }
   ],
   "source": [
    "print(\"Hello World\")"
   ]
  },
  {
   "cell_type": "code",
   "execution_count": 2,
   "id": "3eb5c9b6",
   "metadata": {},
   "outputs": [
    {
     "name": "stdout",
     "output_type": "stream",
     "text": [
      "[1, 2, 3]\n"
     ]
    }
   ],
   "source": [
    "print(list(range(1, 4)))"
   ]
  },
  {
   "cell_type": "code",
   "execution_count": 8,
   "id": "95a7bdf6",
   "metadata": {},
   "outputs": [
    {
     "name": "stdout",
     "output_type": "stream",
     "text": [
      "int32\n"
     ]
    }
   ],
   "source": [
    "from numpy import *\n",
    "arr = array([1,2,3,4,5])\n",
    "print(arr.dtype)"
   ]
  },
  {
   "cell_type": "code",
   "execution_count": 10,
   "id": "4048a6cc",
   "metadata": {},
   "outputs": [
    {
     "name": "stdout",
     "output_type": "stream",
     "text": [
      "[2, 4, 6]\n"
     ]
    }
   ],
   "source": [
    "def multiplyby2(item):\n",
    "    return(item*2)\n",
    "print(list(map(multiplyby2, [1, 2, 3])))"
   ]
  },
  {
   "cell_type": "code",
   "execution_count": 1,
   "id": "ef07aa06",
   "metadata": {},
   "outputs": [
    {
     "ename": "NameError",
     "evalue": "name 'ihhh' is not defined",
     "output_type": "error",
     "traceback": [
      "\u001b[1;31m---------------------------------------------------------------------------\u001b[0m",
      "\u001b[1;31mNameError\u001b[0m                                 Traceback (most recent call last)",
      "\u001b[1;32m<ipython-input-1-6961f4052efe>\u001b[0m in \u001b[0;36m<module>\u001b[1;34m\u001b[0m\n\u001b[1;32m----> 1\u001b[1;33m \u001b[0mihhh\u001b[0m\u001b[1;33m\u001b[0m\u001b[1;33m\u001b[0m\u001b[0m\n\u001b[0m",
      "\u001b[1;31mNameError\u001b[0m: name 'ihhh' is not defined"
     ]
    }
   ],
   "source": [
    "ihhh"
   ]
  },
  {
   "cell_type": "code",
   "execution_count": 2,
   "id": "49cc5d1a",
   "metadata": {},
   "outputs": [
    {
     "data": {
      "text/plain": [
       "[0, 1, 2, 3, 4, 5, 6, 7, 8, 9]"
      ]
     },
     "execution_count": 2,
     "metadata": {},
     "output_type": "execute_result"
    }
   ],
   "source": [
    "list(range(10))"
   ]
  },
  {
   "cell_type": "code",
   "execution_count": 139,
   "id": "49a220c2",
   "metadata": {},
   "outputs": [
    {
     "name": "stdout",
     "output_type": "stream",
     "text": [
      "Demo: \n",
      "[1, 0, 0, 0, 0, 0]\n",
      "[0, 1, 0, 1, 1, 1]\n",
      "[0, 0, 1, 0, 1, 0]\n",
      "[0, 1, 0, 0, 1, 0]\n",
      "[1, 0, 1, 1, 0, 0]\n",
      "[0, 0, 0, 0, 0, 1]\n",
      "------------------------\n",
      "Sample Result: \n",
      "[1, 0, 0, 0, 0, 0]\n",
      "[0, 0, 0, 1, 1, 1]\n",
      "[0, 0, 0, 0, 1, 0]\n",
      "[1, 1, 0, 0, 1, 0]\n",
      "[1, 0, 0, 0, 0, 0]\n",
      "[1, 0, 0, 0, 0, 1]\n"
     ]
    }
   ],
   "source": [
    "# 1-> black\n",
    "# o-> white \n",
    "# eliminate all blacks that are not connected to the border and are horizontally or vertically adjacent \n",
    "\n",
    "demo = [\n",
    "    [1, 0, 0, 0, 0, 0],\n",
    "    [0, 1, 0, 1, 1, 1],\n",
    "    [0, 0, 1, 0, 1, 0],\n",
    "    [0, 1, 0, 0, 1, 0],\n",
    "    [1, 0, 1, 1, 0, 0],\n",
    "    [0, 0, 0, 0, 0, 1],\n",
    "]\n",
    "\n",
    "sampleResult = [\n",
    "    [1, 0, 0, 0, 0, 0],\n",
    "    [0, 0, 0, 1, 1, 1],\n",
    "    [0, 0, 0, 0, 1, 0], \n",
    "    [1, 1, 0, 0, 1, 0], \n",
    "    [1, 0, 0, 0, 0, 0],\n",
    "    [1, 0, 0, 0, 0, 1]\n",
    "    \n",
    "]\n",
    "\n",
    "print(\"Demo: \")\n",
    "for item in demo:\n",
    "    print(item)\n",
    "    \n",
    "print('------------------------')\n",
    "print(\"Sample Result: \")\n",
    "for item in sampleResult:\n",
    "    print(item)"
   ]
  },
  {
   "cell_type": "code",
   "execution_count": 15,
   "id": "660dd6a1",
   "metadata": {},
   "outputs": [],
   "source": [
    "#the basic logic behind it, I'm checking vertical & horizontal. Hmmm"
   ]
  },
  {
   "cell_type": "code",
   "execution_count": 158,
   "id": "809e422a",
   "metadata": {
    "scrolled": true
   },
   "outputs": [
    {
     "name": "stdout",
     "output_type": "stream",
     "text": [
      "{(0, 0): 1, (0, 1): 0, (0, 2): 1, (0, 3): 0, (1, 0): 0, (1, 1): 1, (1, 2): 1, (1, 3): 0, (2, 0): 1, (2, 1): 0, (2, 2): 0, (2, 3): 1}\n",
      "0\n",
      "(1, 1)\n",
      "False False False False\n",
      "1\n",
      "(1, 2)\n",
      "False False True False\n",
      "[1, 0, 1, 0]\n",
      "[0, 0, 1, 0]\n",
      "[1, 0, 0, 1]\n"
     ]
    }
   ],
   "source": [
    "# demo = [\n",
    "#     [1, 0, 0, 0, 0, 0],\n",
    "#     [0, 1, 0, 1, 1, 1],\n",
    "#     [0, 0, 1, 0, 1, 0],\n",
    "#     [1, 1, 0, 0, 1, 0],\n",
    "#     [1, 0, 1, 1, 0, 0],\n",
    "#     [1, 0, 0, 0, 0, 1],\n",
    "# ]\n",
    "\n",
    "demo = [\n",
    "    [1, 0, 1, 0],\n",
    "    [0, 1, 1, 0],\n",
    "    [1, 0, 0, 1],\n",
    "]\n",
    "storage = dict()\n",
    "for x in range(len(demo)):\n",
    "    sep_demo = demo[x]\n",
    "    for y in range(len(sep_demo)):\n",
    "        storage[(x, y)] = sep_demo[y]\n",
    "        \n",
    "print(storage)\n",
    "for i in storage:\n",
    "    x, y = i\n",
    "    value = storage[i]\n",
    "    if value == 0:\n",
    "        demo[x][y] = value\n",
    "    else:\n",
    "        #check if it's edge\n",
    "        if y == 0 or y == len(sep_demo)-1 or x == 0 or x == len(demo)-1:\n",
    "            demo[x][y] = value\n",
    "        else:\n",
    "            if value == 1:\n",
    "                #make a function that checks horizontally or vertically (make 4 loops?)\n",
    "                new_y, new_x = y, x\n",
    "                right_check, left_check, up_check, down_check = False, False, False, False\n",
    "                \n",
    "                #right checker\n",
    "                while new_y < len(sep_demo):\n",
    "                    if demo[x][new_y] == 1:\n",
    "                        right_check = True\n",
    "                    else:\n",
    "                        right_check = False\n",
    "                        break\n",
    "                    new_y += 1\n",
    "                \n",
    "                #left checker\n",
    "                new_y, new_x = y, x\n",
    "                while new_y >= 0:\n",
    "                    if demo[x][new_y] == 1:\n",
    "                        left_check = True\n",
    "                    else:\n",
    "                        left_check = False\n",
    "                        break\n",
    "                    new_y -= 1\n",
    "                \n",
    "                #up checker\n",
    "                new_y, new_x = y, x-1\n",
    "                while new_x >= 0:\n",
    "                    print(demo[new_x][y])\n",
    "                    if demo[new_x][y] == 1:\n",
    "                        up_check = True\n",
    "                        break\n",
    "                    else:\n",
    "                        up_check = False\n",
    "                        break\n",
    "                    new_x -= 1\n",
    "                \n",
    "                #down checker\n",
    "                new_y, new_x = y, x\n",
    "                while new_x < len(demo):\n",
    "                    if demo[new_x][y] == 1:\n",
    "                        down_check = True\n",
    "                    else:\n",
    "                        down_check = False\n",
    "                        break\n",
    "                    new_x += 1\n",
    "                \n",
    "                print(i)\n",
    "                print(right_check, left_check, up_check, down_check)\n",
    "                \n",
    "                if right_check or left_check or up_check or down_check:\n",
    "                    demo[x][y] = value\n",
    "                else:\n",
    "                    demo[x][y] = 0\n",
    "                    \n",
    "\n",
    "\n",
    "for item in demo:\n",
    "    print(item)        \n",
    "    \n",
    "#so basically skip the ones relating to the edges(begin with 0 and end with length of arr)\n"
   ]
  },
  {
   "cell_type": "code",
   "execution_count": 74,
   "id": "3c5a59ef",
   "metadata": {},
   "outputs": [
    {
     "name": "stdout",
     "output_type": "stream",
     "text": [
      "6\n"
     ]
    }
   ],
   "source": [
    "print(len(demo))"
   ]
  },
  {
   "cell_type": "code",
   "execution_count": 132,
   "id": "e0601791",
   "metadata": {},
   "outputs": [
    {
     "data": {
      "text/plain": [
       "[1, 0, 0, 0, 0, 1]"
      ]
     },
     "execution_count": 132,
     "metadata": {},
     "output_type": "execute_result"
    }
   ],
   "source": [
    "[1, 0, 0, 0, 0, 0]\n",
    "[0, 0, 0, 1, 1, 1]\n",
    "[0, 0, 0, 0, 1, 0]\n",
    "[1, 1, 0, 0, 1, 0]\n",
    "[1, 0, 0, 0, 0, 0]\n",
    "[1, 0, 0, 0, 0, 1]\n",
    "\n",
    "[1, 0, 0, 0, 0, 0]\n",
    "[0, 0, 0, 1, 1, 1]\n",
    "[0, 0, 0, 0, 1, 0]\n",
    "[1, 1, 0, 0, 1, 0]\n",
    "[1, 0, 0, 0, 0, 0]\n",
    "[1, 0, 0, 0, 0, 1]"
   ]
  },
  {
   "cell_type": "code",
   "execution_count": 146,
   "id": "d8a1df3e",
   "metadata": {},
   "outputs": [],
   "source": [
    "#ones that start with 0,  end with 4, end with 0, start with 4"
   ]
  },
  {
   "cell_type": "code",
   "execution_count": 28,
   "id": "061c6612",
   "metadata": {},
   "outputs": [
    {
     "name": "stdout",
     "output_type": "stream",
     "text": [
      "1.06 ms ± 17.4 µs per loop (mean ± std. dev. of 7 runs, 1000 loops each)\n",
      "[1, 1, 0, 1, 1, 0, 0, 1, 0, 1]\n",
      "[1, 1, 0, 1, 1, 0, 0, 1, 0, 1]\n",
      "[1, 1, 0, 1, 1, 0, 0, 1, 0, 1]\n",
      "[1, 1, 0, 1, 1, 0, 0, 1, 0, 1]\n",
      "[1, 1, 0, 1, 1, 0, 0, 1, 0, 1]\n",
      "[1, 1, 0, 1, 1, 0, 0, 1, 0, 1]\n",
      "[1, 1, 0, 1, 1, 0, 0, 1, 0, 1]\n",
      "[1, 1, 0, 1, 1, 0, 0, 1, 0, 1]\n",
      "[1, 1, 0, 1, 1, 0, 0, 1, 0, 1]\n",
      "[1, 1, 0, 1, 1, 0, 0, 1, 0, 1]\n",
      "[1, 1, 0, 1, 1, 0, 0, 1, 0, 1]\n",
      "[1, 1, 0, 1, 1, 0, 0, 1, 0, 1]\n"
     ]
    }
   ],
   "source": [
    "# demo = [[1, 0, 0, 1, 0, 1, 1, 1, 1, 1, 0, 0, 0, 0, 0, 1],\n",
    "#  [1, 1, 1, 1, 0, 1, 0, 1, 1, 1, 0, 1, 0, 1, 0, 1],\n",
    "#  [0, 0, 1, 1, 1, 1, 0, 1, 1, 1, 1, 1, 0, 0, 0, 1],\n",
    "#  [1, 0, 0, 0, 1, 0, 1, 1, 0, 1, 0, 1, 1, 1, 0, 0],\n",
    "#  [0, 1, 1, 0, 1, 0, 0, 1, 0, 0, 1, 1, 0, 0, 1, 0],\n",
    "#  [1, 0, 1, 1, 1, 0, 1, 0, 1, 0, 0, 1, 0, 0, 1, 0],\n",
    "#  [1, 1, 0, 1, 0, 1, 1, 0, 0, 1, 1, 0, 0, 1, 0, 0],\n",
    "#  [1, 0, 0, 1, 1, 0, 0, 0, 0, 0, 0, 0, 0, 1, 0, 1],\n",
    "#  [0, 0, 0, 0, 1, 1, 0, 0, 1, 0, 0, 0, 1, 0, 0, 0],\n",
    "#  [1, 0, 0, 1, 1, 0, 1, 0, 1, 0, 0, 1, 1, 0, 0, 1],\n",
    "#  [1, 1, 1, 0, 0, 0, 1, 1, 1, 1, 1, 0, 0, 0, 1, 1],\n",
    "#  [0, 0, 1, 1, 1, 0, 0, 0, 1, 1, 1, 1, 0, 1, 1, 0],\n",
    "#  [1, 0, 1, 1, 1, 0, 1, 1, 0, 0, 0, 0, 0, 1, 1, 0],\n",
    "#  [0, 0, 1, 1, 1, 1, 0, 0, 0, 0, 0, 0, 0, 0, 1, 0],\n",
    "#  [1, 1, 0, 1, 1, 1, 1, 0, 0, 0, 0, 0, 1, 1, 1, 0],\n",
    "#  [0, 1, 0, 0, 1, 0, 1, 0, 0, 0, 1, 1, 0, 1, 1, 0]]\n",
    "\n",
    "# demo = [\n",
    "#     [1, 0, 1, 0],\n",
    "#     [0, 1, 1, 0],\n",
    "#     [1, 0, 0, 1],\n",
    "# ]\n",
    "\n",
    "# demo = [\n",
    "#     [1, 0, 0, 0, 0, 0],\n",
    "#     [0, 1, 0, 1, 1, 1],\n",
    "#     [0, 0, 1, 0, 1, 0],\n",
    "#     [1, 1, 0, 0, 1, 0],\n",
    "#     [1, 0, 1, 1, 0, 0],\n",
    "#     [1, 0, 0, 0, 0, 1],\n",
    "# ]\n",
    "\n",
    "demo = [\n",
    "    [1, 1, 0, 1, 1, 0, 0, 1, 0, 1],\n",
    "    [1, 1, 0, 1, 1, 0, 0, 1, 0, 1],\n",
    "    [1, 1, 0, 1, 1, 0, 0, 1, 0, 1],\n",
    "    [1, 1, 0, 1, 1, 0, 0, 1, 0, 1],\n",
    "    [1, 1, 0, 1, 1, 0, 0, 1, 0, 1],\n",
    "    [1, 1, 0, 1, 1, 0, 0, 1, 0, 1],\n",
    "    [1, 1, 0, 1, 1, 0, 0, 1, 0, 1],\n",
    "    [1, 1, 0, 1, 1, 0, 0, 1, 0, 1],\n",
    "    [1, 1, 0, 1, 1, 0, 0, 1, 0, 1],\n",
    "    [1, 1, 0, 1, 1, 0, 0, 1, 0, 1],\n",
    "    [1, 1, 0, 1, 1, 0, 0, 1, 0, 1],\n",
    "    [1, 1, 0, 1, 1, 0, 0, 1, 0, 1],\n",
    "]\n",
    "\n",
    "def removeIslands(demo):\n",
    "    edge_cases = list()\n",
    "    sides = list()\n",
    "    linked = list()\n",
    "    demo_len, sep_demo_len = 0, 0\n",
    "    for x in range(len(demo)):\n",
    "        sep_demo = demo[x]\n",
    "        for y in range(len(sep_demo)):\n",
    "            demo_len = len(demo)-1     #x\n",
    "            sep_demo_len = len(sep_demo)-1 #y\n",
    "            if (y == 0 or y == sep_demo_len or x == 0 or x == demo_len):\n",
    "                sides.append((x, y))\n",
    "            if (y == 0 or y == sep_demo_len or x == 0 or x == demo_len) and sep_demo[y] and (x,y) != (0, 0) and (x,y) != (demo_len, 0) and (x,y) != (0, sep_demo_len)and (x,y) != (demo_len, sep_demo_len):\n",
    "                edge_cases.append((x, y))\n",
    "\n",
    "    def find_linked(a, b):\n",
    "        new_a, new_b = a, b\n",
    "        ## (if a != 0 or a == 3)\n",
    "        if a!=0 and a != demo_len:\n",
    "            #go right\n",
    "            while b+1 <= sep_demo_len:\n",
    "                if (a, b) not in edge_cases:\n",
    "                    if demo[a][b] == 1: edge_cases.append((a, b))\n",
    "                    else: break\n",
    "                b = b + 1\n",
    "\n",
    "            #go left\n",
    "            a, b = new_a, new_b\n",
    "            while b-1 >= 0:\n",
    "                if (a, b) not in edge_cases:\n",
    "                    if demo[a][b] == 1: edge_cases.append((a, b))\n",
    "                    else: break\n",
    "                b = b - 1\n",
    "\n",
    "        if b!=0 and b != sep_demo_len:\n",
    "            #go up\n",
    "            a, b = new_a, new_b\n",
    "            while a-1 >= 0:\n",
    "                if (a, b) not in edge_cases:\n",
    "                    if demo[a][b] == 1: edge_cases.append((a, b))\n",
    "                    else: break\n",
    "                a = a - 1\n",
    "\n",
    "            #go down\n",
    "            a, b = new_a, new_b\n",
    "            while a+1 <= demo_len:\n",
    "                if (a, b) not in edge_cases:\n",
    "                    if demo[a][b] == 1: edge_cases.append((a, b))\n",
    "                    else: break\n",
    "                a = a + 1\n",
    "\n",
    "    for i in edge_cases:\n",
    "        a, b = i\n",
    "        find_linked(a, b)\n",
    "\n",
    "    sides.extend(edge_cases)\n",
    "\n",
    "    for x in range(len(demo)):\n",
    "        sep_demo = demo[x]\n",
    "        for y in range(len(sep_demo)):\n",
    "            demo_len = len(demo)-1     #x\n",
    "            sep_demo_len = len(sep_demo)-1 #y\n",
    "            if (x, y) not in sides:\n",
    "                demo[x][y] = 0\n",
    "    return demo\n",
    "\n",
    "#not part\n",
    "%timeit removeIslands(demo)\n",
    "for item in demo:\n",
    "    print(item) "
   ]
  },
  {
   "cell_type": "code",
   "execution_count": null,
   "id": "bc17b3eb",
   "metadata": {},
   "outputs": [],
   "source": [
    "\n",
    "                    "
   ]
  },
  {
   "cell_type": "code",
   "execution_count": 27,
   "id": "d1ad9cc2",
   "metadata": {},
   "outputs": [
    {
     "name": "stdout",
     "output_type": "stream",
     "text": [
      "468 µs ± 9.58 µs per loop (mean ± std. dev. of 7 runs, 1000 loops each)\n"
     ]
    }
   ],
   "source": [
    "def modRemoveIslands1(matrix):\n",
    "    edge_indexes = []\n",
    "    \n",
    "    edge_indexes = edge_indexes + [(0,y) for y in range(len(matrix[0]))]\n",
    "    edge_indexes = edge_indexes + [(x,0) for x in range(len(matrix)) if x != 0]\n",
    "    edge_indexes = edge_indexes + [(len(matrix)-1,y) for y in range(len(matrix[0])) if y != 0]\n",
    "    edge_indexes = edge_indexes + [(x,len(matrix[0])-1) for x in range(len(matrix)) if x != 0 and x != len(matrix)-1]\n",
    "    \n",
    "    edge_indexes_with_black = [(k,v) for (k,v) in edge_indexes if matrix[k][v] == 1]\n",
    "    \n",
    "    linked = []\n",
    "    \n",
    "    def mark_linked(x, y):\n",
    "        \n",
    "        if x-1 >= 0:\n",
    "            if (x-1,y) not in edge_indexes and (x-1,y) not in linked and matrix[x-1][y] == 1: \n",
    "                linked.append((x-1, y))\n",
    "                mark_linked(x-1, y)\n",
    "                \n",
    "        if x+1 <= len(matrix)-1:\n",
    "            if (x+1,y) not in edge_indexes and (x+1,y) not in linked and matrix[x+1][y] == 1: \n",
    "                linked.append((x+1, y)) \n",
    "                mark_linked(x+1, y)\n",
    "            \n",
    "        if y-1 >= 0:\n",
    "            if (x,y-1) not in edge_indexes and (x,y-1) not in linked and matrix[x][y-1] == 1: \n",
    "                linked.append((x, y-1))\n",
    "                mark_linked(x, y-1)\n",
    "            \n",
    "        if y+1 <= len(matrix[0])-1:\n",
    "            if (x,y+1) not in edge_indexes and (x,y+1) not in linked and matrix[x][y+1] == 1: \n",
    "                linked.append((x, y+1))\n",
    "                mark_linked(x, y+1)\n",
    "    \n",
    "    for k, v in edge_indexes_with_black: mark_linked(k, v)\n",
    "    \n",
    "    new_matrix = [] \n",
    "    \n",
    "    for x in range(len(matrix)):\n",
    "        \n",
    "        in_matrix = []\n",
    "        \n",
    "        for y in range(len(matrix[x])):\n",
    "            if (x,y) not in edge_indexes and matrix[x][y] == 1:\n",
    "                if (x,y) not in linked: \n",
    "                    in_matrix.append(0)\n",
    "                else:\n",
    "                    in_matrix.append(matrix[x][y])\n",
    "            else:\n",
    "                in_matrix.append(matrix[x][y])\n",
    "                    \n",
    "        new_matrix.append(in_matrix)\n",
    "        \n",
    "    return new_matrix\n",
    "\n",
    "demo = [\n",
    "    [1, 1, 0, 1, 1, 0, 0, 1, 0, 1],\n",
    "    [1, 1, 0, 1, 1, 0, 0, 1, 0, 1],\n",
    "    [1, 1, 0, 1, 1, 0, 0, 1, 0, 1],\n",
    "    [1, 1, 0, 1, 1, 0, 0, 1, 0, 1],\n",
    "    [1, 1, 0, 1, 1, 0, 0, 1, 0, 1],\n",
    "    [1, 1, 0, 1, 1, 0, 0, 1, 0, 1],\n",
    "    [1, 1, 0, 1, 1, 0, 0, 1, 0, 1],\n",
    "    [1, 1, 0, 1, 1, 0, 0, 1, 0, 1],\n",
    "    [1, 1, 0, 1, 1, 0, 0, 1, 0, 1],\n",
    "    [1, 1, 0, 1, 1, 0, 0, 1, 0, 1],\n",
    "    [1, 1, 0, 1, 1, 0, 0, 1, 0, 1],\n",
    "    [1, 1, 0, 1, 1, 0, 0, 1, 0, 1],\n",
    "]\n",
    "%timeit modRemoveIslands1(demo)"
   ]
  },
  {
   "cell_type": "code",
   "execution_count": 1,
   "id": "b4255367",
   "metadata": {},
   "outputs": [],
   "source": [
    "demo = [\n",
    "    [1, 1, 0, 1, 1, 0, 0, 1, 0, 1],\n",
    "    [1, 1, 0, 1, 1, 0, 0, 1, 0, 1],\n",
    "    [1, 1, 0, 1, 1, 0, 0, 1, 0, 1],\n",
    "    [1, 1, 0, 1, 1, 0, 0, 1, 0, 1],\n",
    "    [1, 1, 0, 1, 1, 0, 0, 1, 0, 1],\n",
    "    [1, 1, 0, 1, 1, 0, 0, 1, 0, 1],\n",
    "    [1, 1, 0, 1, 1, 0, 0, 1, 0, 1],\n",
    "    [1, 1, 0, 1, 1, 0, 0, 1, 0, 1],\n",
    "    [1, 1, 0, 1, 1, 0, 0, 1, 0, 1],\n",
    "    [1, 1, 0, 1, 1, 0, 0, 1, 0, 1],\n",
    "    [1, 1, 0, 1, 1, 0, 0, 1, 0, 1],\n",
    "    [1, 1, 0, 1, 1, 0, 0, 1, 0, 1],\n",
    "]"
   ]
  },
  {
   "cell_type": "code",
   "execution_count": 1,
   "id": "312b89e9",
   "metadata": {},
   "outputs": [],
   "source": [
    "# List comprehensions"
   ]
  },
  {
   "cell_type": "code",
   "execution_count": null,
   "id": "f693c976",
   "metadata": {},
   "outputs": [],
   "source": []
  },
  {
   "cell_type": "code",
   "execution_count": 59,
   "id": "f31f4e06",
   "metadata": {},
   "outputs": [
    {
     "name": "stdout",
     "output_type": "stream",
     "text": [
      "[23, 25]\n"
     ]
    }
   ],
   "source": [
    "first_list = [-1, 3, 8, 2, 9, 5]\n",
    "second_list = [4, 1, 2, 10, 5, 20]\n",
    "target = 24\n",
    "sum_index = [(0, 0), (0, 0)]\n",
    "sum_value = [0, 0]\n",
    "\n",
    "for x in first_list:\n",
    "    for y in second_list:\n",
    "        num_sum = x + y\n",
    "        if num_sum <= target and num_sum > sum_value[0]:\n",
    "            sum_value[0] = num_sum\n",
    "            sum_index[0] = (x, y)\n",
    "        if num_sum >= target and (sum_value[1] == 0 or  num_sum < sum_value[1]):\n",
    "            sum_value[1] = num_sum\n",
    "            sum_index[1] = (x, y)\n",
    "                \n",
    "print(sum_value)"
   ]
  },
  {
   "cell_type": "code",
   "execution_count": 50,
   "id": "3ca25606",
   "metadata": {},
   "outputs": [],
   "source": [
    "dicti = {\n",
    "    (1, 2): 3,\n",
    "    (4, 5): 9\n",
    "}"
   ]
  },
  {
   "cell_type": "code",
   "execution_count": 39,
   "id": "a12df820",
   "metadata": {},
   "outputs": [
    {
     "name": "stdout",
     "output_type": "stream",
     "text": [
      "fl\n"
     ]
    }
   ],
   "source": [
    "strs = [\"flow\",\"fl\",\"fl\"]\n",
    "ans = \"\"\n",
    "first = strs[0]\n",
    "x = 0\n",
    "y = 1\n",
    "checker = False\n",
    "while x < len(first):\n",
    "    check = first[x]\n",
    "    while y < len(strs):\n",
    "        if x < len(strs[y]):\n",
    "            if check == strs[y][x]: checker = True\n",
    "            else: \n",
    "                checker = False\n",
    "                break\n",
    "        else:\n",
    "            checker = False\n",
    "            break\n",
    "        y += 1\n",
    "    if checker:\n",
    "        ans += check\n",
    "    else: break\n",
    "    y = 1\n",
    "    x += 1\n",
    "print(ans)"
   ]
  },
  {
   "cell_type": "code",
   "execution_count": 79,
   "id": "720d0a26",
   "metadata": {},
   "outputs": [
    {
     "name": "stdout",
     "output_type": "stream",
     "text": [
      "True\n"
     ]
    }
   ],
   "source": [
    "#check if int is palindrome \n",
    "num =0\n",
    "new_num = str(num)\n",
    "new_num_len = len(new_num)\n",
    "i = 0\n",
    "check = new_num_len//2 \n",
    "if check == 0 : check = 1\n",
    "checker = False\n",
    "while i < check:\n",
    "    if new_num[i] == new_num[new_num_len-1]:\n",
    "        checker = True\n",
    "    else:\n",
    "        checker = False\n",
    "        break\n",
    "    i = i+ 1\n",
    "print(checker)"
   ]
  },
  {
   "cell_type": "code",
   "execution_count": 87,
   "id": "9468deb4",
   "metadata": {},
   "outputs": [
    {
     "name": "stdout",
     "output_type": "stream",
     "text": [
      "ff\n"
     ]
    }
   ],
   "source": [
    "def longestCommonPrefix2(strs):\n",
    "        \n",
    "    prefix = \"\"\n",
    "        \n",
    "    for i in range(len(strs[0])):\n",
    "        for j in range(1, len(strs)):\n",
    "            if i >= len(strs[j]) or strs[0][i] != strs[j][i]: return prefix\n",
    "        prefix += strs[0][i]\n",
    "        \n",
    "    return prefix\n",
    "print(longestCommonPrefix2([\"ff\",\"ff\",\"fff\"]))"
   ]
  },
  {
   "cell_type": "code",
   "execution_count": 65,
   "id": "597e9cd6",
   "metadata": {},
   "outputs": [
    {
     "name": "stdout",
     "output_type": "stream",
     "text": [
      "True\n"
     ]
    }
   ],
   "source": [
    "def intIsPalindrome(x):\n",
    "    \n",
    "    if x < 0: return False\n",
    "        \n",
    "    x = str(x)\n",
    "        \n",
    "    for i in range(len(x)//2):\n",
    "        if x[i] != x[len(x)-1-i]:\n",
    "            return False\n",
    "            \n",
    "    return True\n",
    "print(intIsPalindrome(0))"
   ]
  },
  {
   "cell_type": "code",
   "execution_count": 44,
   "id": "faf58ca1",
   "metadata": {},
   "outputs": [
    {
     "name": "stdout",
     "output_type": "stream",
     "text": [
      "1.66 µs ± 17.7 ns per loop (mean ± std. dev. of 7 runs, 1000000 loops each)\n"
     ]
    }
   ],
   "source": [
    "s = \"abcabcab\"\n",
    "\n",
    "def check_stuff(s):\n",
    "    answer = \"\"\n",
    "    checker = list()\n",
    "    for i in s:\n",
    "        checker_len = len(checker)\n",
    "        if i not in checker or checker_len == 0: checker.append(i)\n",
    "        else: \n",
    "            if checker_len >= len(answer): answer = \"\".join(checker)\n",
    "            checker = list(i)\n",
    "    checker_len = len(checker)\n",
    "    if checker_len >= len(answer): answer = \"\".join(checker)\n",
    "    return answer\n",
    "    \n",
    "%timeit check_stuff(s)"
   ]
  },
  {
   "cell_type": "code",
   "execution_count": 6,
   "id": "a92c95e8",
   "metadata": {},
   "outputs": [
    {
     "name": "stdout",
     "output_type": "stream",
     "text": [
      "o\n",
      "l\n",
      "l\n",
      "e\n",
      "h\n"
     ]
    }
   ],
   "source": [
    "name = \"hello\"\n",
    "for i in range(len(name)): print(name[(len(name)-1)-i])"
   ]
  },
  {
   "cell_type": "code",
   "execution_count": 168,
   "id": "2a8a930e",
   "metadata": {},
   "outputs": [
    {
     "name": "stdout",
     "output_type": "stream",
     "text": [
      "0\n"
     ]
    }
   ],
   "source": [
    "# let me warm up by doing a basic binary search\n",
    "cards = [20, 19, 11, 11, 11, 10, 8, 7, 4, 3, 1, 0]\n",
    "value = 20\n",
    "\n",
    "\n",
    "def binary_search(start, stop, value, cards):\n",
    "    mid = (start+stop) //2\n",
    "    if (not mid or start-stop == 1) and cards[mid] != value: return -1\n",
    "    \n",
    "    if cards[mid] == value: return mid\n",
    "    if cards[mid] > value: return binary_search(mid+1, stop, value, cards)\n",
    "    if cards[mid] < value: return binary_search(start, mid-1, value, cards)\n",
    "    \n",
    "def locate_first(card, index, value):\n",
    "    new_index = index\n",
    "    while index-1 >= 0:\n",
    "        if card[index] == value: \n",
    "            new_index = index\n",
    "        else: break \n",
    "        index -= 1\n",
    "    return new_index\n",
    "    \n",
    "if cards:\n",
    "    start = 0    \n",
    "    stop = len(cards)-1\n",
    "    ans = binary_search(start, stop, value, cards)\n",
    "    if ans == 0: print(ans)\n",
    "    elif ans != -1:\n",
    "        print(locate_first(cards, ans, value))\n",
    "    else: print(-1)\n",
    "else:\n",
    "    print(-1)\n",
    "    \n",
    "#what I did here is linear & binary. too slow with a larger list. (fixed since it's a sorted list)"
   ]
  },
  {
   "cell_type": "code",
   "execution_count": 1,
   "id": "91e0248a",
   "metadata": {},
   "outputs": [
    {
     "name": "stdout",
     "output_type": "stream",
     "text": [
      "4\n",
      "[3, 5]\n"
     ]
    }
   ],
   "source": [
    "# let me warm up by doing a basic binary search\n",
    "cards = [1,2,3,3,3,3,4,5,9]\n",
    "value = 3\n",
    "\n",
    "\n",
    "def binary_search(start, stop, value, cards):\n",
    "    \n",
    "    # print(start, stop)\n",
    "    mid = (start+stop) //2\n",
    "    if stop-start == 1 and cards[mid] != value:\n",
    "        return binary_search(start+1, stop, value, cards)\n",
    "        \n",
    "    if (not mid or start-stop == 1) and cards[mid] != value: return -1\n",
    "     \n",
    "    if cards[mid] == value: return mid\n",
    "    if cards[mid] > value: return binary_search(start, mid-1, value, cards)\n",
    "    if cards[mid] < value: return binary_search(mid+1, stop, value, cards)\n",
    "    \n",
    "def locate_first(card, index, value):\n",
    "    forward, backward = 1, 1\n",
    "    first, second = index, index\n",
    "    card_len = len(card)-1\n",
    "    \n",
    "    while True:\n",
    "        if forward and (forward+index <= card_len) and (card[index+forward] == value): \n",
    "            first = forward + index\n",
    "            forward += 1\n",
    "        else:\n",
    "            forward = 0\n",
    "            \n",
    "        if backward and (index-backward >= 0) and (card[index-backward] == value):\n",
    "            second = index - backward\n",
    "            backward -= 1\n",
    "        else:\n",
    "            backward = 0\n",
    "                \n",
    "        if not forward and not backward: break \n",
    "    return [second, first]\n",
    "    \n",
    "if cards:\n",
    "    start = 0    \n",
    "    stop = len(cards)-1\n",
    "    ans = binary_search(start, stop, value, cards)\n",
    "    if ans == 0: \n",
    "        print(ans)\n",
    "        print(locate_first(cards, ans, value))\n",
    "    elif ans != -1:\n",
    "        print(ans)\n",
    "        print(locate_first(cards, ans, value))\n",
    "    else: \n",
    "        print(-1)\n",
    "        print([-1, -1])\n",
    "else:\n",
    "    print(-1)\n",
    "    \n",
    "#what I did here is linear & binary. too slow with a larger list. (fixed since it's a sorted list)"
   ]
  },
  {
   "cell_type": "code",
   "execution_count": 164,
   "id": "d446925b",
   "metadata": {},
   "outputs": [
    {
     "name": "stdout",
     "output_type": "stream",
     "text": [
      "[1, 2]\n"
     ]
    }
   ],
   "source": [
    "final = [-1,-1]\n",
    "nums = [1, 4, 4, 10, 20]\n",
    "target = 4\n",
    "    \n",
    "def binarySearch(nums,flag):\n",
    "    ans = -1\n",
    "    start = 0\n",
    "    end = len(nums) - 1\n",
    "\n",
    "    while start <= end:\n",
    "        mid = (start+end)//2\n",
    "        midVal = nums[mid]\n",
    "        if midVal == target:\n",
    "            #storing the potential answer\n",
    "            ans = mid\n",
    "            if flag == 0: end = mid - 1\n",
    "            elif flag == 1: start = mid + 1\n",
    "\n",
    "        elif midVal<=target:\n",
    "            start = mid + 1\n",
    "\n",
    "        elif midVal>target:\n",
    "            end = mid - 1\n",
    "    return ans\n",
    "\n",
    "final[0] = binarySearch(nums,0)\n",
    "final[1] = binarySearch(nums,1)\n",
    "\n",
    "print(final)"
   ]
  },
  {
   "cell_type": "code",
   "execution_count": 215,
   "id": "5ab7d098",
   "metadata": {},
   "outputs": [
    {
     "name": "stdout",
     "output_type": "stream",
     "text": [
      "3\n"
     ]
    }
   ],
   "source": [
    "#new project (rotated sorted list)\n",
    "nums = [19, 25, 29, 3, 5, 7, 9, 11]\n",
    "check = 0\n",
    "count = 0\n",
    "\n",
    "for i in range(len(nums)):\n",
    "    if nums[i] > check:\n",
    "        check = nums[i]\n",
    "        count += 1\n",
    "    else: break\n",
    "        \n",
    "if count== len(nums):\n",
    "    count = 0\n",
    "        \n",
    "print(count)"
   ]
  },
  {
   "cell_type": "code",
   "execution_count": 2,
   "id": "4cd625da",
   "metadata": {},
   "outputs": [
    {
     "data": {
      "text/plain": [
       "[10, 12, 14, 2, 3, 4, 5, 6, 8, 9]"
      ]
     },
     "execution_count": 2,
     "metadata": {},
     "output_type": "execute_result"
    }
   ],
   "source": [
    "[10, 12, 14, 2, 3, 4, 5, 6, 8, 9]"
   ]
  },
  {
   "cell_type": "code",
   "execution_count": 3,
   "id": "a4cad16e",
   "metadata": {},
   "outputs": [
    {
     "name": "stdout",
     "output_type": "stream",
     "text": [
      "20 10\n"
     ]
    }
   ],
   "source": [
    "a = 10\n",
    "b = 20\n",
    "\n",
    "a, b = b, a\n",
    "\n",
    "print(a, b)"
   ]
  },
  {
   "cell_type": "code",
   "execution_count": 5,
   "id": "14beb0d9",
   "metadata": {},
   "outputs": [
    {
     "name": "stdout",
     "output_type": "stream",
     "text": [
      "9 2\n"
     ]
    }
   ],
   "source": [
    "nums = [2, 3, 5, 7, 9]\n",
    "target = 11\n",
    "\n",
    "new_map = {}\n",
    "\n",
    "for i in range(len(nums)):\n",
    "    value = nums[i]\n",
    "    diff = target - value\n",
    "    \n",
    "    if value in new_map.keys():\n",
    "        print(value, diff)\n",
    "        break\n",
    "    \n",
    "    new_map[diff] = value"
   ]
  },
  {
   "cell_type": "code",
   "execution_count": 2,
   "id": "0cdbede5",
   "metadata": {},
   "outputs": [
    {
     "name": "stdout",
     "output_type": "stream",
     "text": [
      "1\n",
      "2\n",
      "3\n"
     ]
    }
   ],
   "source": [
    "for index in range(3):\n",
    "    index += 1\n",
    "    print(index)"
   ]
  },
  {
   "cell_type": "code",
   "execution_count": 15,
   "id": "505f13e2",
   "metadata": {},
   "outputs": [
    {
     "name": "stdout",
     "output_type": "stream",
     "text": [
      "4\n",
      "//\n"
     ]
    }
   ],
   "source": [
    "path = \"/../\"\n",
    "special = ['/']\n",
    "        \n",
    "new_str = ''\n",
    "check = False\n",
    "index = 0\n",
    "print(len(path))\n",
    "while index <= len(path):\n",
    "    \n",
    "    if path[index] == \".\":\n",
    "        index += 1\n",
    "        continue\n",
    "    elif path[index] not in special:\n",
    "        new_str += path[index]\n",
    "        index += 1\n",
    "    else:\n",
    "        new_path = path[index]\n",
    "        if index < len(path)-1:\n",
    "            new_path = path[index+1]\n",
    "\n",
    "        if path[index] == '/' and new_path not in special:\n",
    "            new_str += \"/\"\n",
    "            index += 1\n",
    "        else:\n",
    "            new_str += \"/\"\n",
    "            index += 2\n",
    "            \n",
    "\n",
    "if new_str[len(new_str) - 1] and len(new_str) != 1 == '/':\n",
    "    print(new_str[:len(new_str) - 1])\n",
    "    "
   ]
  },
  {
   "cell_type": "code",
   "execution_count": null,
   "id": "b8efa032",
   "metadata": {},
   "outputs": [],
   "source": []
  }
 ],
 "metadata": {
  "kernelspec": {
   "display_name": "Python 3",
   "language": "python",
   "name": "python3"
  },
  "language_info": {
   "codemirror_mode": {
    "name": "ipython",
    "version": 3
   },
   "file_extension": ".py",
   "mimetype": "text/x-python",
   "name": "python",
   "nbconvert_exporter": "python",
   "pygments_lexer": "ipython3",
   "version": "3.8.8"
  }
 },
 "nbformat": 4,
 "nbformat_minor": 5
}
